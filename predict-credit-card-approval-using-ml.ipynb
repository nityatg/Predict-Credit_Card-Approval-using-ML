{
 "cells": [
  {
   "cell_type": "markdown",
   "id": "5b12daec",
   "metadata": {
    "papermill": {
     "duration": 0.023644,
     "end_time": "2023-12-14T15:48:03.545335",
     "exception": false,
     "start_time": "2023-12-14T15:48:03.521691",
     "status": "completed"
    },
    "tags": []
   },
   "source": [
    "# **Credit Cards**\n",
    "\n",
    "\n",
    "Credit cards are financial tools that allow individuals to make purchases on credit, providing them with convenient access to funds for various transactions. These cards are issued by financial institutions, such as banks or credit card companies, and come with a predetermined credit limit that represents the maximum amount a cardholder can borrow.\n",
    "Credit cards offer several benefits and features that make them widely used in today's world. Here are some key aspects to consider:\n",
    "\n",
    "\n",
    "Utilizing machine learning approaches to predict credit card approval based on customer information.\n",
    "\n",
    "\n",
    "A bank's credit card department is one of the top adopters of data science. A top focus for the bank has always been acquiring new credit card customers. Giving out credit cards without doing proper research or evaluating applicants' creditworthiness is quite risky. The credit card department has been using a data-driven system for credit assessment called Credit Scoring for many years, and the model is known as an application scorecard. A credit card application's cutoff value is determined using the application scorecard, which also aids in estimating the applicant's level of risk. This decision is made based on strategic priority at a given time.\n",
    "\n",
    "\n",
    "Customers must fill out a form, either physically or online, to apply for a credit card. The application data is used to evaluate the applicant's creditworthiness. The decision is made using the application data in addition to the Credit Bureau Score, such as the FICO Score in the US or the CIBIL Score in India, and other internal information on the applicants. Additionally, the banks are rapidly taking a lot of outside data into account to enhance the caliber of credit judgements.\n"
   ]
  },
  {
   "cell_type": "markdown",
   "id": "b349b5e3",
   "metadata": {
    "papermill": {
     "duration": 0.022437,
     "end_time": "2023-12-14T15:48:03.590951",
     "exception": false,
     "start_time": "2023-12-14T15:48:03.568514",
     "status": "completed"
    },
    "tags": []
   },
   "source": [
    "# Introduction \n",
    "\n",
    "The data contains below fileds\n",
    "\n",
    "Features name: (Credit_Card.csv)\n",
    "\n",
    "Ind_ID: Client ID\n",
    "\n",
    "Gender: Gender information\n",
    "\n",
    "Car_owner: Having car or not\n",
    "\n",
    "Propert_owner: Having property or not\n",
    "\n",
    "Children: Count of children\n",
    "\n",
    "Annual_income: Annual income\n",
    "\n",
    "Type_Income: Income type\n",
    "\n",
    "Education: Education level\n",
    "\n",
    "Marital_status: Marital_status\n",
    "\n",
    "Housing_type: Living style\n",
    "\n",
    "Birthday_count: Use backward count from current day (0), -1 means yesterday.\n",
    "\n",
    "Employed_days: Start date of employment. Use backward count from current day (0). Positive value means, individual is currently unemployed.\n",
    "\n",
    "Mobile_phone: Any mobile phone\n",
    "\n",
    "Work_phone: Any work phone\n",
    "\n",
    "Phone: Any phone number\n",
    "\n",
    "EMAIL_ID: Any email ID\n",
    "\n",
    "Type_Occupation: Occupation\n",
    "\n",
    "Family_Members: Family size\n",
    "\n",
    "\n",
    "Another data set (Credit_card_label.csv) contains two key pieces of information\n",
    "\n",
    "ID: The joining key between application data and credit status data, same is Ind_ID\n",
    "\n",
    "Label: 0 is application approved and 1 is application rejected. \n"
   ]
  },
  {
   "cell_type": "markdown",
   "id": "6fc327a0",
   "metadata": {
    "papermill": {
     "duration": 0.023434,
     "end_time": "2023-12-14T15:48:03.637320",
     "exception": false,
     "start_time": "2023-12-14T15:48:03.613886",
     "status": "completed"
    },
    "tags": []
   },
   "source": [
    "**EDA**"
   ]
  },
  {
   "cell_type": "code",
   "execution_count": 1,
   "id": "58d95238",
   "metadata": {
    "execution": {
     "iopub.execute_input": "2023-12-14T15:48:03.684609Z",
     "iopub.status.busy": "2023-12-14T15:48:03.684221Z",
     "iopub.status.idle": "2023-12-14T15:48:05.735763Z",
     "shell.execute_reply": "2023-12-14T15:48:05.734444Z"
    },
    "papermill": {
     "duration": 2.078346,
     "end_time": "2023-12-14T15:48:05.738520",
     "exception": false,
     "start_time": "2023-12-14T15:48:03.660174",
     "status": "completed"
    },
    "tags": []
   },
   "outputs": [],
   "source": [
    "# Importing required libraries for data maniplation\n",
    "\n",
    "import pandas as pd\n",
    "import numpy as np\n",
    "\n",
    "# Importing required libraries for data Visualzation\n",
    "\n",
    "import matplotlib.pyplot as plt\n",
    "import seaborn as sns"
   ]
  },
  {
   "cell_type": "code",
   "execution_count": 2,
   "id": "5bc6c457",
   "metadata": {
    "execution": {
     "iopub.execute_input": "2023-12-14T15:48:05.787477Z",
     "iopub.status.busy": "2023-12-14T15:48:05.786949Z",
     "iopub.status.idle": "2023-12-14T15:48:05.852128Z",
     "shell.execute_reply": "2023-12-14T15:48:05.850964Z"
    },
    "papermill": {
     "duration": 0.092255,
     "end_time": "2023-12-14T15:48:05.854923",
     "exception": false,
     "start_time": "2023-12-14T15:48:05.762668",
     "status": "completed"
    },
    "tags": []
   },
   "outputs": [
    {
     "data": {
      "text/html": [
       "<div>\n",
       "<style scoped>\n",
       "    .dataframe tbody tr th:only-of-type {\n",
       "        vertical-align: middle;\n",
       "    }\n",
       "\n",
       "    .dataframe tbody tr th {\n",
       "        vertical-align: top;\n",
       "    }\n",
       "\n",
       "    .dataframe thead th {\n",
       "        text-align: right;\n",
       "    }\n",
       "</style>\n",
       "<table border=\"1\" class=\"dataframe\">\n",
       "  <thead>\n",
       "    <tr style=\"text-align: right;\">\n",
       "      <th></th>\n",
       "      <th>Ind_ID</th>\n",
       "      <th>GENDER</th>\n",
       "      <th>Car_Owner</th>\n",
       "      <th>Propert_Owner</th>\n",
       "      <th>CHILDREN</th>\n",
       "      <th>Annual_income</th>\n",
       "      <th>Type_Income</th>\n",
       "      <th>EDUCATION</th>\n",
       "      <th>Marital_status</th>\n",
       "      <th>Housing_type</th>\n",
       "      <th>Birthday_count</th>\n",
       "      <th>Employed_days</th>\n",
       "      <th>Mobile_phone</th>\n",
       "      <th>Work_Phone</th>\n",
       "      <th>Phone</th>\n",
       "      <th>EMAIL_ID</th>\n",
       "      <th>Type_Occupation</th>\n",
       "      <th>Family_Members</th>\n",
       "    </tr>\n",
       "  </thead>\n",
       "  <tbody>\n",
       "    <tr>\n",
       "      <th>0</th>\n",
       "      <td>5008827</td>\n",
       "      <td>M</td>\n",
       "      <td>Y</td>\n",
       "      <td>Y</td>\n",
       "      <td>0</td>\n",
       "      <td>180000.0</td>\n",
       "      <td>Pensioner</td>\n",
       "      <td>Higher education</td>\n",
       "      <td>Married</td>\n",
       "      <td>House / apartment</td>\n",
       "      <td>-18772.0</td>\n",
       "      <td>365243</td>\n",
       "      <td>1</td>\n",
       "      <td>0</td>\n",
       "      <td>0</td>\n",
       "      <td>0</td>\n",
       "      <td>NaN</td>\n",
       "      <td>2</td>\n",
       "    </tr>\n",
       "    <tr>\n",
       "      <th>1</th>\n",
       "      <td>5009744</td>\n",
       "      <td>F</td>\n",
       "      <td>Y</td>\n",
       "      <td>N</td>\n",
       "      <td>0</td>\n",
       "      <td>315000.0</td>\n",
       "      <td>Commercial associate</td>\n",
       "      <td>Higher education</td>\n",
       "      <td>Married</td>\n",
       "      <td>House / apartment</td>\n",
       "      <td>-13557.0</td>\n",
       "      <td>-586</td>\n",
       "      <td>1</td>\n",
       "      <td>1</td>\n",
       "      <td>1</td>\n",
       "      <td>0</td>\n",
       "      <td>NaN</td>\n",
       "      <td>2</td>\n",
       "    </tr>\n",
       "    <tr>\n",
       "      <th>2</th>\n",
       "      <td>5009746</td>\n",
       "      <td>F</td>\n",
       "      <td>Y</td>\n",
       "      <td>N</td>\n",
       "      <td>0</td>\n",
       "      <td>315000.0</td>\n",
       "      <td>Commercial associate</td>\n",
       "      <td>Higher education</td>\n",
       "      <td>Married</td>\n",
       "      <td>House / apartment</td>\n",
       "      <td>NaN</td>\n",
       "      <td>-586</td>\n",
       "      <td>1</td>\n",
       "      <td>1</td>\n",
       "      <td>1</td>\n",
       "      <td>0</td>\n",
       "      <td>NaN</td>\n",
       "      <td>2</td>\n",
       "    </tr>\n",
       "    <tr>\n",
       "      <th>3</th>\n",
       "      <td>5009749</td>\n",
       "      <td>F</td>\n",
       "      <td>Y</td>\n",
       "      <td>N</td>\n",
       "      <td>0</td>\n",
       "      <td>NaN</td>\n",
       "      <td>Commercial associate</td>\n",
       "      <td>Higher education</td>\n",
       "      <td>Married</td>\n",
       "      <td>House / apartment</td>\n",
       "      <td>-13557.0</td>\n",
       "      <td>-586</td>\n",
       "      <td>1</td>\n",
       "      <td>1</td>\n",
       "      <td>1</td>\n",
       "      <td>0</td>\n",
       "      <td>NaN</td>\n",
       "      <td>2</td>\n",
       "    </tr>\n",
       "    <tr>\n",
       "      <th>4</th>\n",
       "      <td>5009752</td>\n",
       "      <td>F</td>\n",
       "      <td>Y</td>\n",
       "      <td>N</td>\n",
       "      <td>0</td>\n",
       "      <td>315000.0</td>\n",
       "      <td>Commercial associate</td>\n",
       "      <td>Higher education</td>\n",
       "      <td>Married</td>\n",
       "      <td>House / apartment</td>\n",
       "      <td>-13557.0</td>\n",
       "      <td>-586</td>\n",
       "      <td>1</td>\n",
       "      <td>1</td>\n",
       "      <td>1</td>\n",
       "      <td>0</td>\n",
       "      <td>NaN</td>\n",
       "      <td>2</td>\n",
       "    </tr>\n",
       "  </tbody>\n",
       "</table>\n",
       "</div>"
      ],
      "text/plain": [
       "    Ind_ID GENDER Car_Owner Propert_Owner  CHILDREN  Annual_income  \\\n",
       "0  5008827      M         Y             Y         0       180000.0   \n",
       "1  5009744      F         Y             N         0       315000.0   \n",
       "2  5009746      F         Y             N         0       315000.0   \n",
       "3  5009749      F         Y             N         0            NaN   \n",
       "4  5009752      F         Y             N         0       315000.0   \n",
       "\n",
       "            Type_Income         EDUCATION Marital_status       Housing_type  \\\n",
       "0             Pensioner  Higher education        Married  House / apartment   \n",
       "1  Commercial associate  Higher education        Married  House / apartment   \n",
       "2  Commercial associate  Higher education        Married  House / apartment   \n",
       "3  Commercial associate  Higher education        Married  House / apartment   \n",
       "4  Commercial associate  Higher education        Married  House / apartment   \n",
       "\n",
       "   Birthday_count  Employed_days  Mobile_phone  Work_Phone  Phone  EMAIL_ID  \\\n",
       "0        -18772.0         365243             1           0      0         0   \n",
       "1        -13557.0           -586             1           1      1         0   \n",
       "2             NaN           -586             1           1      1         0   \n",
       "3        -13557.0           -586             1           1      1         0   \n",
       "4        -13557.0           -586             1           1      1         0   \n",
       "\n",
       "  Type_Occupation  Family_Members  \n",
       "0             NaN               2  \n",
       "1             NaN               2  \n",
       "2             NaN               2  \n",
       "3             NaN               2  \n",
       "4             NaN               2  "
      ]
     },
     "execution_count": 2,
     "metadata": {},
     "output_type": "execute_result"
    }
   ],
   "source": [
    "file_path = \"/kaggle/input/predict-credit-card-approval/Credit_card.csv\"\n",
    "file_path2 = \"/kaggle/input/predict-credit-card-approval/Credit_card_label.csv\"\n",
    "df = pd.read_csv(file_path)\n",
    "df2 = pd.read_csv(file_path2)\n",
    "df.head()\n",
    "# df2.info()\n",
    "# df.describe()\n",
    "# df.head()"
   ]
  },
  {
   "cell_type": "code",
   "execution_count": 3,
   "id": "fa69d6c9",
   "metadata": {
    "execution": {
     "iopub.execute_input": "2023-12-14T15:48:05.903115Z",
     "iopub.status.busy": "2023-12-14T15:48:05.902476Z",
     "iopub.status.idle": "2023-12-14T15:48:05.908539Z",
     "shell.execute_reply": "2023-12-14T15:48:05.907832Z"
    },
    "papermill": {
     "duration": 0.032293,
     "end_time": "2023-12-14T15:48:05.910495",
     "exception": false,
     "start_time": "2023-12-14T15:48:05.878202",
     "status": "completed"
    },
    "tags": []
   },
   "outputs": [
    {
     "data": {
      "text/plain": [
       "(1548, 18)"
      ]
     },
     "execution_count": 3,
     "metadata": {},
     "output_type": "execute_result"
    }
   ],
   "source": [
    "df.shape"
   ]
  },
  {
   "cell_type": "markdown",
   "id": "abb94e7f",
   "metadata": {
    "papermill": {
     "duration": 0.022743,
     "end_time": "2023-12-14T15:48:05.956375",
     "exception": false,
     "start_time": "2023-12-14T15:48:05.933632",
     "status": "completed"
    },
    "tags": []
   },
   "source": [
    "**Data Cleaning**"
   ]
  },
  {
   "cell_type": "code",
   "execution_count": 4,
   "id": "ae32ecce",
   "metadata": {
    "execution": {
     "iopub.execute_input": "2023-12-14T15:48:06.005236Z",
     "iopub.status.busy": "2023-12-14T15:48:06.004272Z",
     "iopub.status.idle": "2023-12-14T15:48:06.016251Z",
     "shell.execute_reply": "2023-12-14T15:48:06.015231Z"
    },
    "papermill": {
     "duration": 0.038642,
     "end_time": "2023-12-14T15:48:06.018413",
     "exception": false,
     "start_time": "2023-12-14T15:48:05.979771",
     "status": "completed"
    },
    "tags": []
   },
   "outputs": [
    {
     "data": {
      "text/plain": [
       "Ind_ID               0\n",
       "GENDER               7\n",
       "Car_Owner            0\n",
       "Propert_Owner        0\n",
       "CHILDREN             0\n",
       "Annual_income       23\n",
       "Type_Income          0\n",
       "EDUCATION            0\n",
       "Marital_status       0\n",
       "Housing_type         0\n",
       "Birthday_count      22\n",
       "Employed_days        0\n",
       "Mobile_phone         0\n",
       "Work_Phone           0\n",
       "Phone                0\n",
       "EMAIL_ID             0\n",
       "Type_Occupation    488\n",
       "Family_Members       0\n",
       "dtype: int64"
      ]
     },
     "execution_count": 4,
     "metadata": {},
     "output_type": "execute_result"
    }
   ],
   "source": [
    "df.isnull().sum()"
   ]
  },
  {
   "cell_type": "code",
   "execution_count": 5,
   "id": "35f778de",
   "metadata": {
    "execution": {
     "iopub.execute_input": "2023-12-14T15:48:06.066472Z",
     "iopub.status.busy": "2023-12-14T15:48:06.065756Z",
     "iopub.status.idle": "2023-12-14T15:48:06.074356Z",
     "shell.execute_reply": "2023-12-14T15:48:06.073246Z"
    },
    "papermill": {
     "duration": 0.034966,
     "end_time": "2023-12-14T15:48:06.076562",
     "exception": false,
     "start_time": "2023-12-14T15:48:06.041596",
     "status": "completed"
    },
    "tags": []
   },
   "outputs": [
    {
     "name": "stdout",
     "output_type": "stream",
     "text": [
      "[nan 'Core staff' 'Cooking staff' 'Laborers' 'Sales staff' 'Accountants'\n",
      " 'High skill tech staff' 'Managers' 'Cleaning staff' 'Drivers'\n",
      " 'Low-skill Laborers' 'IT staff' 'Waiters/barmen staff' 'Security staff'\n",
      " 'Medicine staff' 'Private service staff' 'HR staff' 'Secretaries'\n",
      " 'Realty agents']\n"
     ]
    }
   ],
   "source": [
    "unique_values_pandas = df['Type_Occupation'].unique()\n",
    "print(unique_values_pandas)"
   ]
  },
  {
   "cell_type": "code",
   "execution_count": 6,
   "id": "25e48ce3",
   "metadata": {
    "execution": {
     "iopub.execute_input": "2023-12-14T15:48:06.183206Z",
     "iopub.status.busy": "2023-12-14T15:48:06.182765Z",
     "iopub.status.idle": "2023-12-14T15:48:06.201540Z",
     "shell.execute_reply": "2023-12-14T15:48:06.200309Z"
    },
    "papermill": {
     "duration": 0.046218,
     "end_time": "2023-12-14T15:48:06.204253",
     "exception": false,
     "start_time": "2023-12-14T15:48:06.158035",
     "status": "completed"
    },
    "tags": []
   },
   "outputs": [],
   "source": [
    "df = df.drop_duplicates('Ind_ID', keep='last') # lastly, droping the duplicate values of persons IDs\n",
    "df['Age']=-(df['Birthday_count'])//365 # converting birthday_count to proper format of age\n",
    "\n",
    "# droping unnecessary columns and rows\n",
    "df = df.dropna(subset=['Annual_income', 'GENDER', 'Birthday_count','Type_Occupation'], axis=0)\n",
    "df = df.drop(['Mobile_phone','Work_Phone','Phone','EMAIL_ID','Type_Occupation','Birthday_count'],axis=1)"
   ]
  },
  {
   "cell_type": "code",
   "execution_count": 7,
   "id": "f271f816",
   "metadata": {
    "execution": {
     "iopub.execute_input": "2023-12-14T15:48:06.254690Z",
     "iopub.status.busy": "2023-12-14T15:48:06.254304Z",
     "iopub.status.idle": "2023-12-14T15:48:06.264684Z",
     "shell.execute_reply": "2023-12-14T15:48:06.263588Z"
    },
    "papermill": {
     "duration": 0.03813,
     "end_time": "2023-12-14T15:48:06.266670",
     "exception": false,
     "start_time": "2023-12-14T15:48:06.228540",
     "status": "completed"
    },
    "tags": []
   },
   "outputs": [
    {
     "data": {
      "text/plain": [
       "Ind_ID            0\n",
       "GENDER            0\n",
       "Car_Owner         0\n",
       "Propert_Owner     0\n",
       "CHILDREN          0\n",
       "Annual_income     0\n",
       "Type_Income       0\n",
       "EDUCATION         0\n",
       "Marital_status    0\n",
       "Housing_type      0\n",
       "Employed_days     0\n",
       "Family_Members    0\n",
       "Age               0\n",
       "dtype: int64"
      ]
     },
     "execution_count": 7,
     "metadata": {},
     "output_type": "execute_result"
    }
   ],
   "source": [
    "df.isnull().sum()"
   ]
  },
  {
   "cell_type": "code",
   "execution_count": 8,
   "id": "225c098f",
   "metadata": {
    "execution": {
     "iopub.execute_input": "2023-12-14T15:48:06.316766Z",
     "iopub.status.busy": "2023-12-14T15:48:06.316052Z",
     "iopub.status.idle": "2023-12-14T15:48:06.334511Z",
     "shell.execute_reply": "2023-12-14T15:48:06.333284Z"
    },
    "papermill": {
     "duration": 0.046337,
     "end_time": "2023-12-14T15:48:06.336929",
     "exception": false,
     "start_time": "2023-12-14T15:48:06.290592",
     "status": "completed"
    },
    "tags": []
   },
   "outputs": [
    {
     "data": {
      "text/html": [
       "<div>\n",
       "<style scoped>\n",
       "    .dataframe tbody tr th:only-of-type {\n",
       "        vertical-align: middle;\n",
       "    }\n",
       "\n",
       "    .dataframe tbody tr th {\n",
       "        vertical-align: top;\n",
       "    }\n",
       "\n",
       "    .dataframe thead th {\n",
       "        text-align: right;\n",
       "    }\n",
       "</style>\n",
       "<table border=\"1\" class=\"dataframe\">\n",
       "  <thead>\n",
       "    <tr style=\"text-align: right;\">\n",
       "      <th></th>\n",
       "      <th>Ind_ID</th>\n",
       "      <th>GENDER</th>\n",
       "      <th>Car_Owner</th>\n",
       "      <th>Propert_Owner</th>\n",
       "      <th>CHILDREN</th>\n",
       "      <th>Annual_income</th>\n",
       "      <th>Type_Income</th>\n",
       "      <th>EDUCATION</th>\n",
       "      <th>Marital_status</th>\n",
       "      <th>Housing_type</th>\n",
       "      <th>Employed_days</th>\n",
       "      <th>Family_Members</th>\n",
       "      <th>Age</th>\n",
       "    </tr>\n",
       "  </thead>\n",
       "  <tbody>\n",
       "    <tr>\n",
       "      <th>8</th>\n",
       "      <td>5010864</td>\n",
       "      <td>M</td>\n",
       "      <td>Y</td>\n",
       "      <td>Y</td>\n",
       "      <td>1</td>\n",
       "      <td>450000.0</td>\n",
       "      <td>Commercial associate</td>\n",
       "      <td>Secondary / secondary special</td>\n",
       "      <td>Married</td>\n",
       "      <td>House / apartment</td>\n",
       "      <td>-678</td>\n",
       "      <td>3</td>\n",
       "      <td>49.0</td>\n",
       "    </tr>\n",
       "    <tr>\n",
       "      <th>9</th>\n",
       "      <td>5010868</td>\n",
       "      <td>M</td>\n",
       "      <td>Y</td>\n",
       "      <td>Y</td>\n",
       "      <td>1</td>\n",
       "      <td>450000.0</td>\n",
       "      <td>Pensioner</td>\n",
       "      <td>Secondary / secondary special</td>\n",
       "      <td>Married</td>\n",
       "      <td>House / apartment</td>\n",
       "      <td>-678</td>\n",
       "      <td>3</td>\n",
       "      <td>49.0</td>\n",
       "    </tr>\n",
       "    <tr>\n",
       "      <th>10</th>\n",
       "      <td>5010869</td>\n",
       "      <td>M</td>\n",
       "      <td>Y</td>\n",
       "      <td>Y</td>\n",
       "      <td>1</td>\n",
       "      <td>450000.0</td>\n",
       "      <td>Commercial associate</td>\n",
       "      <td>Secondary / secondary special</td>\n",
       "      <td>Single / not married</td>\n",
       "      <td>House / apartment</td>\n",
       "      <td>-678</td>\n",
       "      <td>1</td>\n",
       "      <td>49.0</td>\n",
       "    </tr>\n",
       "    <tr>\n",
       "      <th>11</th>\n",
       "      <td>5018498</td>\n",
       "      <td>F</td>\n",
       "      <td>Y</td>\n",
       "      <td>Y</td>\n",
       "      <td>0</td>\n",
       "      <td>90000.0</td>\n",
       "      <td>Working</td>\n",
       "      <td>Secondary / secondary special</td>\n",
       "      <td>Married</td>\n",
       "      <td>House / apartment</td>\n",
       "      <td>-1002</td>\n",
       "      <td>2</td>\n",
       "      <td>51.0</td>\n",
       "    </tr>\n",
       "    <tr>\n",
       "      <th>13</th>\n",
       "      <td>5018503</td>\n",
       "      <td>F</td>\n",
       "      <td>Y</td>\n",
       "      <td>Y</td>\n",
       "      <td>0</td>\n",
       "      <td>90000.0</td>\n",
       "      <td>Working</td>\n",
       "      <td>Secondary / secondary special</td>\n",
       "      <td>Married</td>\n",
       "      <td>House / apartment</td>\n",
       "      <td>-1002</td>\n",
       "      <td>2</td>\n",
       "      <td>51.0</td>\n",
       "    </tr>\n",
       "  </tbody>\n",
       "</table>\n",
       "</div>"
      ],
      "text/plain": [
       "     Ind_ID GENDER Car_Owner Propert_Owner  CHILDREN  Annual_income  \\\n",
       "8   5010864      M         Y             Y         1       450000.0   \n",
       "9   5010868      M         Y             Y         1       450000.0   \n",
       "10  5010869      M         Y             Y         1       450000.0   \n",
       "11  5018498      F         Y             Y         0        90000.0   \n",
       "13  5018503      F         Y             Y         0        90000.0   \n",
       "\n",
       "             Type_Income                      EDUCATION        Marital_status  \\\n",
       "8   Commercial associate  Secondary / secondary special               Married   \n",
       "9              Pensioner  Secondary / secondary special               Married   \n",
       "10  Commercial associate  Secondary / secondary special  Single / not married   \n",
       "11               Working  Secondary / secondary special               Married   \n",
       "13               Working  Secondary / secondary special               Married   \n",
       "\n",
       "         Housing_type  Employed_days  Family_Members   Age  \n",
       "8   House / apartment           -678               3  49.0  \n",
       "9   House / apartment           -678               3  49.0  \n",
       "10  House / apartment           -678               1  49.0  \n",
       "11  House / apartment          -1002               2  51.0  \n",
       "13  House / apartment          -1002               2  51.0  "
      ]
     },
     "execution_count": 8,
     "metadata": {},
     "output_type": "execute_result"
    }
   ],
   "source": [
    "df.head()"
   ]
  },
  {
   "cell_type": "code",
   "execution_count": 9,
   "id": "0409fe41",
   "metadata": {
    "execution": {
     "iopub.execute_input": "2023-12-14T15:48:06.386854Z",
     "iopub.status.busy": "2023-12-14T15:48:06.386179Z",
     "iopub.status.idle": "2023-12-14T15:48:06.401184Z",
     "shell.execute_reply": "2023-12-14T15:48:06.399575Z"
    },
    "papermill": {
     "duration": 0.042756,
     "end_time": "2023-12-14T15:48:06.403621",
     "exception": false,
     "start_time": "2023-12-14T15:48:06.360865",
     "status": "completed"
    },
    "tags": []
   },
   "outputs": [
    {
     "name": "stdout",
     "output_type": "stream",
     "text": [
      "Ind_ID            [5010864, 5010868, 5010869, 5018498, 5018503, ...\n",
      "GENDER                                                       [M, F]\n",
      "Car_Owner                                                    [Y, N]\n",
      "Propert_Owner                                                [Y, N]\n",
      "CHILDREN                                        [1, 0, 2, 4, 3, 14]\n",
      "Annual_income     [450000.0, 90000.0, 270000.0, 126000.0, 202500...\n",
      "Type_Income       [Commercial associate, Pensioner, Working, Sta...\n",
      "EDUCATION         [Secondary / secondary special, Higher educati...\n",
      "Marital_status    [Married, Single / not married, Civil marriage...\n",
      "Housing_type      [House / apartment, Rented apartment, Municipa...\n",
      "Employed_days     [-678, -1002, -248, -2470, -1674, -1086, -925,...\n",
      "Family_Members                               [3, 1, 2, 4, 6, 5, 15]\n",
      "Age               [49.0, 51.0, 46.0, 32.0, 48.0, 33.0, 43.0, 54....\n",
      "dtype: object\n"
     ]
    }
   ],
   "source": [
    "unique_values_per_column = df.apply(lambda col: col.unique())\n",
    "print(unique_values_per_column)"
   ]
  },
  {
   "cell_type": "markdown",
   "id": "4e3abcd1",
   "metadata": {
    "papermill": {
     "duration": 0.023668,
     "end_time": "2023-12-14T15:48:06.450742",
     "exception": false,
     "start_time": "2023-12-14T15:48:06.427074",
     "status": "completed"
    },
    "tags": []
   },
   "source": [
    "**DATA PRE PROCESSING**"
   ]
  },
  {
   "cell_type": "code",
   "execution_count": 10,
   "id": "44e5ad9d",
   "metadata": {
    "execution": {
     "iopub.execute_input": "2023-12-14T15:48:06.500679Z",
     "iopub.status.busy": "2023-12-14T15:48:06.500271Z",
     "iopub.status.idle": "2023-12-14T15:48:06.511558Z",
     "shell.execute_reply": "2023-12-14T15:48:06.510501Z"
    },
    "papermill": {
     "duration": 0.039124,
     "end_time": "2023-12-14T15:48:06.513933",
     "exception": false,
     "start_time": "2023-12-14T15:48:06.474809",
     "status": "completed"
    },
    "tags": []
   },
   "outputs": [
    {
     "data": {
      "text/plain": [
       "1            GENDER\n",
       "2         Car_Owner\n",
       "3     Propert_Owner\n",
       "6       Type_Income\n",
       "7         EDUCATION\n",
       "8    Marital_status\n",
       "9      Housing_type\n",
       "Name: index, dtype: object"
      ]
     },
     "execution_count": 10,
     "metadata": {},
     "output_type": "execute_result"
    }
   ],
   "source": [
    "# parse the data type object.\n",
    "# It is necessary to determine whether they have any value for evaluating credit,\n",
    "# and also to evaluate the possibility of converting data to a numeric type.\n",
    "\n",
    "objects_data = pd.DataFrame(df.dtypes =='object').reset_index()\n",
    "object_type = objects_data[objects_data[0] == True]['index']\n",
    "object_type"
   ]
  },
  {
   "cell_type": "markdown",
   "id": "22d2c35a",
   "metadata": {
    "papermill": {
     "duration": 0.024506,
     "end_time": "2023-12-14T15:48:06.563523",
     "exception": false,
     "start_time": "2023-12-14T15:48:06.539017",
     "status": "completed"
    },
    "tags": []
   },
   "source": [
    "**FEATURE ENGINEERING\n",
    "FEATURE SELECTION AND TRANSFORMATION**"
   ]
  },
  {
   "cell_type": "code",
   "execution_count": 11,
   "id": "90979bec",
   "metadata": {
    "execution": {
     "iopub.execute_input": "2023-12-14T15:48:06.614746Z",
     "iopub.status.busy": "2023-12-14T15:48:06.614127Z",
     "iopub.status.idle": "2023-12-14T15:48:06.621345Z",
     "shell.execute_reply": "2023-12-14T15:48:06.620499Z"
    },
    "papermill": {
     "duration": 0.036087,
     "end_time": "2023-12-14T15:48:06.623625",
     "exception": false,
     "start_time": "2023-12-14T15:48:06.587538",
     "status": "completed"
    },
    "tags": []
   },
   "outputs": [],
   "source": [
    "df['Employment_Status'] = df['Employed_days'].apply(lambda x: 1 if x < 0 else 0)"
   ]
  },
  {
   "cell_type": "code",
   "execution_count": 12,
   "id": "b54b040d",
   "metadata": {
    "execution": {
     "iopub.execute_input": "2023-12-14T15:48:06.675485Z",
     "iopub.status.busy": "2023-12-14T15:48:06.674338Z",
     "iopub.status.idle": "2023-12-14T15:48:06.680208Z",
     "shell.execute_reply": "2023-12-14T15:48:06.679492Z"
    },
    "papermill": {
     "duration": 0.032824,
     "end_time": "2023-12-14T15:48:06.682212",
     "exception": false,
     "start_time": "2023-12-14T15:48:06.649388",
     "status": "completed"
    },
    "tags": []
   },
   "outputs": [],
   "source": [
    "df = df.drop(['Employed_days'],axis=1)"
   ]
  },
  {
   "cell_type": "code",
   "execution_count": 13,
   "id": "79c0d0aa",
   "metadata": {
    "execution": {
     "iopub.execute_input": "2023-12-14T15:48:06.732929Z",
     "iopub.status.busy": "2023-12-14T15:48:06.731981Z",
     "iopub.status.idle": "2023-12-14T15:48:06.749645Z",
     "shell.execute_reply": "2023-12-14T15:48:06.748794Z"
    },
    "papermill": {
     "duration": 0.045694,
     "end_time": "2023-12-14T15:48:06.751966",
     "exception": false,
     "start_time": "2023-12-14T15:48:06.706272",
     "status": "completed"
    },
    "tags": []
   },
   "outputs": [
    {
     "data": {
      "text/html": [
       "<div>\n",
       "<style scoped>\n",
       "    .dataframe tbody tr th:only-of-type {\n",
       "        vertical-align: middle;\n",
       "    }\n",
       "\n",
       "    .dataframe tbody tr th {\n",
       "        vertical-align: top;\n",
       "    }\n",
       "\n",
       "    .dataframe thead th {\n",
       "        text-align: right;\n",
       "    }\n",
       "</style>\n",
       "<table border=\"1\" class=\"dataframe\">\n",
       "  <thead>\n",
       "    <tr style=\"text-align: right;\">\n",
       "      <th></th>\n",
       "      <th>Ind_ID</th>\n",
       "      <th>GENDER</th>\n",
       "      <th>Car_Owner</th>\n",
       "      <th>Propert_Owner</th>\n",
       "      <th>CHILDREN</th>\n",
       "      <th>Annual_income</th>\n",
       "      <th>Type_Income</th>\n",
       "      <th>EDUCATION</th>\n",
       "      <th>Marital_status</th>\n",
       "      <th>Housing_type</th>\n",
       "      <th>Family_Members</th>\n",
       "      <th>Age</th>\n",
       "      <th>Employment_Status</th>\n",
       "    </tr>\n",
       "  </thead>\n",
       "  <tbody>\n",
       "    <tr>\n",
       "      <th>8</th>\n",
       "      <td>5010864</td>\n",
       "      <td>M</td>\n",
       "      <td>Y</td>\n",
       "      <td>Y</td>\n",
       "      <td>1</td>\n",
       "      <td>450000.0</td>\n",
       "      <td>Commercial associate</td>\n",
       "      <td>Secondary / secondary special</td>\n",
       "      <td>Married</td>\n",
       "      <td>House / apartment</td>\n",
       "      <td>3</td>\n",
       "      <td>49.0</td>\n",
       "      <td>1</td>\n",
       "    </tr>\n",
       "    <tr>\n",
       "      <th>9</th>\n",
       "      <td>5010868</td>\n",
       "      <td>M</td>\n",
       "      <td>Y</td>\n",
       "      <td>Y</td>\n",
       "      <td>1</td>\n",
       "      <td>450000.0</td>\n",
       "      <td>Pensioner</td>\n",
       "      <td>Secondary / secondary special</td>\n",
       "      <td>Married</td>\n",
       "      <td>House / apartment</td>\n",
       "      <td>3</td>\n",
       "      <td>49.0</td>\n",
       "      <td>1</td>\n",
       "    </tr>\n",
       "    <tr>\n",
       "      <th>10</th>\n",
       "      <td>5010869</td>\n",
       "      <td>M</td>\n",
       "      <td>Y</td>\n",
       "      <td>Y</td>\n",
       "      <td>1</td>\n",
       "      <td>450000.0</td>\n",
       "      <td>Commercial associate</td>\n",
       "      <td>Secondary / secondary special</td>\n",
       "      <td>Single / not married</td>\n",
       "      <td>House / apartment</td>\n",
       "      <td>1</td>\n",
       "      <td>49.0</td>\n",
       "      <td>1</td>\n",
       "    </tr>\n",
       "    <tr>\n",
       "      <th>11</th>\n",
       "      <td>5018498</td>\n",
       "      <td>F</td>\n",
       "      <td>Y</td>\n",
       "      <td>Y</td>\n",
       "      <td>0</td>\n",
       "      <td>90000.0</td>\n",
       "      <td>Working</td>\n",
       "      <td>Secondary / secondary special</td>\n",
       "      <td>Married</td>\n",
       "      <td>House / apartment</td>\n",
       "      <td>2</td>\n",
       "      <td>51.0</td>\n",
       "      <td>1</td>\n",
       "    </tr>\n",
       "    <tr>\n",
       "      <th>13</th>\n",
       "      <td>5018503</td>\n",
       "      <td>F</td>\n",
       "      <td>Y</td>\n",
       "      <td>Y</td>\n",
       "      <td>0</td>\n",
       "      <td>90000.0</td>\n",
       "      <td>Working</td>\n",
       "      <td>Secondary / secondary special</td>\n",
       "      <td>Married</td>\n",
       "      <td>House / apartment</td>\n",
       "      <td>2</td>\n",
       "      <td>51.0</td>\n",
       "      <td>1</td>\n",
       "    </tr>\n",
       "  </tbody>\n",
       "</table>\n",
       "</div>"
      ],
      "text/plain": [
       "     Ind_ID GENDER Car_Owner Propert_Owner  CHILDREN  Annual_income  \\\n",
       "8   5010864      M         Y             Y         1       450000.0   \n",
       "9   5010868      M         Y             Y         1       450000.0   \n",
       "10  5010869      M         Y             Y         1       450000.0   \n",
       "11  5018498      F         Y             Y         0        90000.0   \n",
       "13  5018503      F         Y             Y         0        90000.0   \n",
       "\n",
       "             Type_Income                      EDUCATION        Marital_status  \\\n",
       "8   Commercial associate  Secondary / secondary special               Married   \n",
       "9              Pensioner  Secondary / secondary special               Married   \n",
       "10  Commercial associate  Secondary / secondary special  Single / not married   \n",
       "11               Working  Secondary / secondary special               Married   \n",
       "13               Working  Secondary / secondary special               Married   \n",
       "\n",
       "         Housing_type  Family_Members   Age  Employment_Status  \n",
       "8   House / apartment               3  49.0                  1  \n",
       "9   House / apartment               3  49.0                  1  \n",
       "10  House / apartment               1  49.0                  1  \n",
       "11  House / apartment               2  51.0                  1  \n",
       "13  House / apartment               2  51.0                  1  "
      ]
     },
     "execution_count": 13,
     "metadata": {},
     "output_type": "execute_result"
    }
   ],
   "source": [
    "df.head()"
   ]
  },
  {
   "cell_type": "code",
   "execution_count": 14,
   "id": "dfb2e775",
   "metadata": {
    "execution": {
     "iopub.execute_input": "2023-12-14T15:48:06.804416Z",
     "iopub.status.busy": "2023-12-14T15:48:06.803716Z",
     "iopub.status.idle": "2023-12-14T15:48:07.026710Z",
     "shell.execute_reply": "2023-12-14T15:48:07.025713Z"
    },
    "papermill": {
     "duration": 0.252471,
     "end_time": "2023-12-14T15:48:07.029483",
     "exception": false,
     "start_time": "2023-12-14T15:48:06.777012",
     "status": "completed"
    },
    "tags": []
   },
   "outputs": [],
   "source": [
    "# converting all non-numeric data to numeric data using LabelEncoder()\n",
    "\n",
    "from sklearn.preprocessing import LabelEncoder\n",
    "le = LabelEncoder()\n",
    "for x in df:\n",
    "    if df[x].dtypes == 'object':\n",
    "        df[x] = le.fit_transform(df[x])"
   ]
  },
  {
   "cell_type": "code",
   "execution_count": 15,
   "id": "dc08b3b4",
   "metadata": {
    "execution": {
     "iopub.execute_input": "2023-12-14T15:48:07.080328Z",
     "iopub.status.busy": "2023-12-14T15:48:07.079925Z",
     "iopub.status.idle": "2023-12-14T15:48:07.097216Z",
     "shell.execute_reply": "2023-12-14T15:48:07.096089Z"
    },
    "papermill": {
     "duration": 0.04517,
     "end_time": "2023-12-14T15:48:07.099379",
     "exception": false,
     "start_time": "2023-12-14T15:48:07.054209",
     "status": "completed"
    },
    "tags": []
   },
   "outputs": [
    {
     "data": {
      "text/html": [
       "<div>\n",
       "<style scoped>\n",
       "    .dataframe tbody tr th:only-of-type {\n",
       "        vertical-align: middle;\n",
       "    }\n",
       "\n",
       "    .dataframe tbody tr th {\n",
       "        vertical-align: top;\n",
       "    }\n",
       "\n",
       "    .dataframe thead th {\n",
       "        text-align: right;\n",
       "    }\n",
       "</style>\n",
       "<table border=\"1\" class=\"dataframe\">\n",
       "  <thead>\n",
       "    <tr style=\"text-align: right;\">\n",
       "      <th></th>\n",
       "      <th>Ind_ID</th>\n",
       "      <th>GENDER</th>\n",
       "      <th>Car_Owner</th>\n",
       "      <th>Propert_Owner</th>\n",
       "      <th>CHILDREN</th>\n",
       "      <th>Annual_income</th>\n",
       "      <th>Type_Income</th>\n",
       "      <th>EDUCATION</th>\n",
       "      <th>Marital_status</th>\n",
       "      <th>Housing_type</th>\n",
       "      <th>Family_Members</th>\n",
       "      <th>Age</th>\n",
       "      <th>Employment_Status</th>\n",
       "    </tr>\n",
       "  </thead>\n",
       "  <tbody>\n",
       "    <tr>\n",
       "      <th>8</th>\n",
       "      <td>5010864</td>\n",
       "      <td>1</td>\n",
       "      <td>1</td>\n",
       "      <td>1</td>\n",
       "      <td>1</td>\n",
       "      <td>450000.0</td>\n",
       "      <td>0</td>\n",
       "      <td>3</td>\n",
       "      <td>1</td>\n",
       "      <td>1</td>\n",
       "      <td>3</td>\n",
       "      <td>49.0</td>\n",
       "      <td>1</td>\n",
       "    </tr>\n",
       "    <tr>\n",
       "      <th>9</th>\n",
       "      <td>5010868</td>\n",
       "      <td>1</td>\n",
       "      <td>1</td>\n",
       "      <td>1</td>\n",
       "      <td>1</td>\n",
       "      <td>450000.0</td>\n",
       "      <td>1</td>\n",
       "      <td>3</td>\n",
       "      <td>1</td>\n",
       "      <td>1</td>\n",
       "      <td>3</td>\n",
       "      <td>49.0</td>\n",
       "      <td>1</td>\n",
       "    </tr>\n",
       "    <tr>\n",
       "      <th>10</th>\n",
       "      <td>5010869</td>\n",
       "      <td>1</td>\n",
       "      <td>1</td>\n",
       "      <td>1</td>\n",
       "      <td>1</td>\n",
       "      <td>450000.0</td>\n",
       "      <td>0</td>\n",
       "      <td>3</td>\n",
       "      <td>3</td>\n",
       "      <td>1</td>\n",
       "      <td>1</td>\n",
       "      <td>49.0</td>\n",
       "      <td>1</td>\n",
       "    </tr>\n",
       "    <tr>\n",
       "      <th>11</th>\n",
       "      <td>5018498</td>\n",
       "      <td>0</td>\n",
       "      <td>1</td>\n",
       "      <td>1</td>\n",
       "      <td>0</td>\n",
       "      <td>90000.0</td>\n",
       "      <td>3</td>\n",
       "      <td>3</td>\n",
       "      <td>1</td>\n",
       "      <td>1</td>\n",
       "      <td>2</td>\n",
       "      <td>51.0</td>\n",
       "      <td>1</td>\n",
       "    </tr>\n",
       "    <tr>\n",
       "      <th>13</th>\n",
       "      <td>5018503</td>\n",
       "      <td>0</td>\n",
       "      <td>1</td>\n",
       "      <td>1</td>\n",
       "      <td>0</td>\n",
       "      <td>90000.0</td>\n",
       "      <td>3</td>\n",
       "      <td>3</td>\n",
       "      <td>1</td>\n",
       "      <td>1</td>\n",
       "      <td>2</td>\n",
       "      <td>51.0</td>\n",
       "      <td>1</td>\n",
       "    </tr>\n",
       "  </tbody>\n",
       "</table>\n",
       "</div>"
      ],
      "text/plain": [
       "     Ind_ID  GENDER  Car_Owner  Propert_Owner  CHILDREN  Annual_income  \\\n",
       "8   5010864       1          1              1         1       450000.0   \n",
       "9   5010868       1          1              1         1       450000.0   \n",
       "10  5010869       1          1              1         1       450000.0   \n",
       "11  5018498       0          1              1         0        90000.0   \n",
       "13  5018503       0          1              1         0        90000.0   \n",
       "\n",
       "    Type_Income  EDUCATION  Marital_status  Housing_type  Family_Members  \\\n",
       "8             0          3               1             1               3   \n",
       "9             1          3               1             1               3   \n",
       "10            0          3               3             1               1   \n",
       "11            3          3               1             1               2   \n",
       "13            3          3               1             1               2   \n",
       "\n",
       "     Age  Employment_Status  \n",
       "8   49.0                  1  \n",
       "9   49.0                  1  \n",
       "10  49.0                  1  \n",
       "11  51.0                  1  \n",
       "13  51.0                  1  "
      ]
     },
     "execution_count": 15,
     "metadata": {},
     "output_type": "execute_result"
    }
   ],
   "source": [
    "df.head()"
   ]
  },
  {
   "cell_type": "code",
   "execution_count": 16,
   "id": "f199313d",
   "metadata": {
    "execution": {
     "iopub.execute_input": "2023-12-14T15:48:07.151751Z",
     "iopub.status.busy": "2023-12-14T15:48:07.150678Z",
     "iopub.status.idle": "2023-12-14T15:48:07.812706Z",
     "shell.execute_reply": "2023-12-14T15:48:07.811479Z"
    },
    "papermill": {
     "duration": 0.690908,
     "end_time": "2023-12-14T15:48:07.815271",
     "exception": false,
     "start_time": "2023-12-14T15:48:07.124363",
     "status": "completed"
    },
    "tags": []
   },
   "outputs": [
    {
     "data": {
      "image/png": "[encoded data removed]",
      "text/plain": [
       "<Figure size 640x480 with 1 Axes>"
      ]
     },
     "metadata": {},
     "output_type": "display_data"
    },
    {
     "data": {
      "image/png": "[encoded data removed]",
      "text/plain": [
       "<Figure size 640x480 with 1 Axes>"
      ]
     },
     "metadata": {},
     "output_type": "display_data"
    }
   ],
   "source": [
    "#Transforming Annual Income\n",
    "\n",
    "import scipy.stats as stats\n",
    "# Select the column you want to transform\n",
    "column_names = ['Annual_income']\n",
    "\n",
    "for column_name in column_names:\n",
    "    # Apply Box-Cox transformation\n",
    "    transformed_data, lambda_val = stats.boxcox(df[column_name])\n",
    "    df[column_name] = transformed_data\n",
    "\n",
    "    # Plot histogram of transformed data\n",
    "    plt.hist(transformed_data, bins=10)\n",
    "    plt.xlabel('Transformed ' + column_name)\n",
    "    plt.ylabel('Frequency')\n",
    "    plt.title('Histogram of Transformed ' + column_name)\n",
    "    plt.show()\n",
    "\n",
    "    # Create Q-Q plot of transformed data\n",
    "    stats.probplot(transformed_data, dist=\"norm\", plot=plt)\n",
    "    plt.title('Q-Q Plot of Transformed ' + column_name)\n",
    "    plt.show()\n"
   ]
  },
  {
   "cell_type": "code",
   "execution_count": 17,
   "id": "bf08f0d4",
   "metadata": {
    "execution": {
     "iopub.execute_input": "2023-12-14T15:48:07.876838Z",
     "iopub.status.busy": "2023-12-14T15:48:07.876285Z",
     "iopub.status.idle": "2023-12-14T15:48:07.892855Z",
     "shell.execute_reply": "2023-12-14T15:48:07.891841Z"
    },
    "papermill": {
     "duration": 0.04957,
     "end_time": "2023-12-14T15:48:07.895586",
     "exception": false,
     "start_time": "2023-12-14T15:48:07.846016",
     "status": "completed"
    },
    "tags": []
   },
   "outputs": [
    {
     "data": {
      "text/html": [
       "<div>\n",
       "<style scoped>\n",
       "    .dataframe tbody tr th:only-of-type {\n",
       "        vertical-align: middle;\n",
       "    }\n",
       "\n",
       "    .dataframe tbody tr th {\n",
       "        vertical-align: top;\n",
       "    }\n",
       "\n",
       "    .dataframe thead th {\n",
       "        text-align: right;\n",
       "    }\n",
       "</style>\n",
       "<table border=\"1\" class=\"dataframe\">\n",
       "  <thead>\n",
       "    <tr style=\"text-align: right;\">\n",
       "      <th></th>\n",
       "      <th>Ind_ID</th>\n",
       "      <th>GENDER</th>\n",
       "      <th>Car_Owner</th>\n",
       "      <th>Propert_Owner</th>\n",
       "      <th>CHILDREN</th>\n",
       "      <th>Annual_income</th>\n",
       "      <th>Type_Income</th>\n",
       "      <th>EDUCATION</th>\n",
       "      <th>Marital_status</th>\n",
       "      <th>Housing_type</th>\n",
       "      <th>Family_Members</th>\n",
       "      <th>Age</th>\n",
       "      <th>Employment_Status</th>\n",
       "    </tr>\n",
       "  </thead>\n",
       "  <tbody>\n",
       "    <tr>\n",
       "      <th>8</th>\n",
       "      <td>5010864</td>\n",
       "      <td>1</td>\n",
       "      <td>1</td>\n",
       "      <td>1</td>\n",
       "      <td>1</td>\n",
       "      <td>5.667662</td>\n",
       "      <td>0</td>\n",
       "      <td>3</td>\n",
       "      <td>1</td>\n",
       "      <td>1</td>\n",
       "      <td>3</td>\n",
       "      <td>49.0</td>\n",
       "      <td>1</td>\n",
       "    </tr>\n",
       "    <tr>\n",
       "      <th>9</th>\n",
       "      <td>5010868</td>\n",
       "      <td>1</td>\n",
       "      <td>1</td>\n",
       "      <td>1</td>\n",
       "      <td>1</td>\n",
       "      <td>5.667662</td>\n",
       "      <td>1</td>\n",
       "      <td>3</td>\n",
       "      <td>1</td>\n",
       "      <td>1</td>\n",
       "      <td>3</td>\n",
       "      <td>49.0</td>\n",
       "      <td>1</td>\n",
       "    </tr>\n",
       "    <tr>\n",
       "      <th>10</th>\n",
       "      <td>5010869</td>\n",
       "      <td>1</td>\n",
       "      <td>1</td>\n",
       "      <td>1</td>\n",
       "      <td>1</td>\n",
       "      <td>5.667662</td>\n",
       "      <td>0</td>\n",
       "      <td>3</td>\n",
       "      <td>3</td>\n",
       "      <td>1</td>\n",
       "      <td>1</td>\n",
       "      <td>49.0</td>\n",
       "      <td>1</td>\n",
       "    </tr>\n",
       "    <tr>\n",
       "      <th>11</th>\n",
       "      <td>5018498</td>\n",
       "      <td>0</td>\n",
       "      <td>1</td>\n",
       "      <td>1</td>\n",
       "      <td>0</td>\n",
       "      <td>5.415751</td>\n",
       "      <td>3</td>\n",
       "      <td>3</td>\n",
       "      <td>1</td>\n",
       "      <td>1</td>\n",
       "      <td>2</td>\n",
       "      <td>51.0</td>\n",
       "      <td>1</td>\n",
       "    </tr>\n",
       "    <tr>\n",
       "      <th>13</th>\n",
       "      <td>5018503</td>\n",
       "      <td>0</td>\n",
       "      <td>1</td>\n",
       "      <td>1</td>\n",
       "      <td>0</td>\n",
       "      <td>5.415751</td>\n",
       "      <td>3</td>\n",
       "      <td>3</td>\n",
       "      <td>1</td>\n",
       "      <td>1</td>\n",
       "      <td>2</td>\n",
       "      <td>51.0</td>\n",
       "      <td>1</td>\n",
       "    </tr>\n",
       "  </tbody>\n",
       "</table>\n",
       "</div>"
      ],
      "text/plain": [
       "     Ind_ID  GENDER  Car_Owner  Propert_Owner  CHILDREN  Annual_income  \\\n",
       "8   5010864       1          1              1         1       5.667662   \n",
       "9   5010868       1          1              1         1       5.667662   \n",
       "10  5010869       1          1              1         1       5.667662   \n",
       "11  5018498       0          1              1         0       5.415751   \n",
       "13  5018503       0          1              1         0       5.415751   \n",
       "\n",
       "    Type_Income  EDUCATION  Marital_status  Housing_type  Family_Members  \\\n",
       "8             0          3               1             1               3   \n",
       "9             1          3               1             1               3   \n",
       "10            0          3               3             1               1   \n",
       "11            3          3               1             1               2   \n",
       "13            3          3               1             1               2   \n",
       "\n",
       "     Age  Employment_Status  \n",
       "8   49.0                  1  \n",
       "9   49.0                  1  \n",
       "10  49.0                  1  \n",
       "11  51.0                  1  \n",
       "13  51.0                  1  "
      ]
     },
     "execution_count": 17,
     "metadata": {},
     "output_type": "execute_result"
    }
   ],
   "source": [
    "df.head()"
   ]
  },
  {
   "cell_type": "code",
   "execution_count": 18,
   "id": "2dd62d46",
   "metadata": {
    "execution": {
     "iopub.execute_input": "2023-12-14T15:48:07.959947Z",
     "iopub.status.busy": "2023-12-14T15:48:07.959525Z",
     "iopub.status.idle": "2023-12-14T15:48:10.455075Z",
     "shell.execute_reply": "2023-12-14T15:48:10.453980Z"
    },
    "papermill": {
     "duration": 2.529976,
     "end_time": "2023-12-14T15:48:10.460943",
     "exception": false,
     "start_time": "2023-12-14T15:48:07.930967",
     "status": "completed"
    },
    "tags": []
   },
   "outputs": [
    {
     "data": {
      "image/png": "[encoded data removed]",
      "text/plain": [
       "<Figure size 4000x4000 with 7 Axes>"
      ]
     },
     "metadata": {},
     "output_type": "display_data"
    }
   ],
   "source": [
    "# Visualization of Children,Anual income,Age,Employment status, family members, marital status and property owner details wrt ID\n",
    "fig, ax= plt.subplots(nrows= 4, ncols = 2, figsize= (40,40))\n",
    "\n",
    "sns.scatterplot(x='Ind_ID', y='CHILDREN', data=df, ax=ax[0][0], color= 'orange')\n",
    "sns.scatterplot(x='Ind_ID', y='Annual_income', data=df, ax=ax[0][1], color='Green')\n",
    "sns.scatterplot(x='Ind_ID', y='Age', data=df, ax=ax[1][0], color ='yellow')\n",
    "sns.scatterplot(x='Ind_ID', y='Employment_Status', data=df, ax=ax[1][1])\n",
    "sns.scatterplot(x='Ind_ID', y='Family_Members', data=df, ax=ax[2][0], color= 'red')\n",
    "sns.scatterplot(x='Ind_ID', y='Marital_status', data=df, ax=ax[2][1])\n",
    "sns.scatterplot(x='Ind_ID', y='Propert_Owner', data=df, ax=ax[3][0])\n",
    "fig.delaxes(ax[3][1])\n",
    "\n",
    "\n",
    "\n",
    "# So, as a result, we have emissions in children,Annual_income,Age and Family_Members\n",
    "# Need to exclude outliers from the data so this can't have a bad effect on model training"
   ]
  },
  {
   "cell_type": "markdown",
   "id": "2b2364df",
   "metadata": {
    "papermill": {
     "duration": 0.031041,
     "end_time": "2023-12-14T15:48:10.523142",
     "exception": false,
     "start_time": "2023-12-14T15:48:10.492101",
     "status": "completed"
    },
    "tags": []
   },
   "source": [
    "Removing Outliers by calculating the 99.9th percentile of the children,Annual_income,Age and Family_Members columns. This will be used as the upper threshold for removing outliers\n",
    "and Calculating the 0.1st percentile of these columns. This will be used as the lower threshold for removing outliers"
   ]
  },
  {
   "cell_type": "code",
   "execution_count": 19,
   "id": "f7f9791d",
   "metadata": {
    "execution": {
     "iopub.execute_input": "2023-12-14T15:48:10.587071Z",
     "iopub.status.busy": "2023-12-14T15:48:10.586404Z",
     "iopub.status.idle": "2023-12-14T15:48:10.597221Z",
     "shell.execute_reply": "2023-12-14T15:48:10.595745Z"
    },
    "papermill": {
     "duration": 0.045514,
     "end_time": "2023-12-14T15:48:10.599617",
     "exception": false,
     "start_time": "2023-12-14T15:48:10.554103",
     "status": "completed"
    },
    "tags": []
   },
   "outputs": [],
   "source": [
    "# for children removing outliers\n",
    "q_hi = df['CHILDREN'].quantile(0.999) # Calculates the 99.9th percentile of the 'CHILDREN' column. This will be used as the upper threshold for removing outliers\n",
    "q_low = df['CHILDREN'].quantile(0.001) # Calculates the 0.1st percentile of the 'CHILDREN' column. This will be used as the lower threshold for removing outliers\n",
    "df = df[(df['CHILDREN']>q_low) & (df['CHILDREN']<q_hi)]\n",
    "\n",
    "# Filters the DataFrame to keep only those rows where the 'CHILDREN' column values are greater than the lower threshold (q_low) and less than the upper threshold (q_hi). This effectively removes outliers from the 'CHILDREN' column."
   ]
  },
  {
   "cell_type": "code",
   "execution_count": 20,
   "id": "0f11fece",
   "metadata": {
    "execution": {
     "iopub.execute_input": "2023-12-14T15:48:10.663823Z",
     "iopub.status.busy": "2023-12-14T15:48:10.663357Z",
     "iopub.status.idle": "2023-12-14T15:48:10.673381Z",
     "shell.execute_reply": "2023-12-14T15:48:10.672568Z"
    },
    "papermill": {
     "duration": 0.045276,
     "end_time": "2023-12-14T15:48:10.675574",
     "exception": false,
     "start_time": "2023-12-14T15:48:10.630298",
     "status": "completed"
    },
    "tags": []
   },
   "outputs": [],
   "source": [
    "# for Annual_income\n",
    "q_hi = df['Annual_income'].quantile(0.999)\n",
    "q_low = df['Annual_income'].quantile(0.001)\n",
    "df = df[(df['Annual_income']>q_low) & (df['Annual_income']<q_hi)]"
   ]
  },
  {
   "cell_type": "code",
   "execution_count": 21,
   "id": "54d9ac39",
   "metadata": {
    "execution": {
     "iopub.execute_input": "2023-12-14T15:48:10.740384Z",
     "iopub.status.busy": "2023-12-14T15:48:10.739629Z",
     "iopub.status.idle": "2023-12-14T15:48:10.748576Z",
     "shell.execute_reply": "2023-12-14T15:48:10.747256Z"
    },
    "papermill": {
     "duration": 0.044301,
     "end_time": "2023-12-14T15:48:10.751282",
     "exception": false,
     "start_time": "2023-12-14T15:48:10.706981",
     "status": "completed"
    },
    "tags": []
   },
   "outputs": [],
   "source": [
    "# for Family_Members\n",
    "q_hi = df['Family_Members'].quantile(0.999)\n",
    "q_low = df['Family_Members'].quantile(0.001)\n",
    "df = df[(df['Family_Members']>q_low) & (df['Family_Members']<q_hi)]\n"
   ]
  },
  {
   "cell_type": "code",
   "execution_count": 22,
   "id": "9cbd520d",
   "metadata": {
    "execution": {
     "iopub.execute_input": "2023-12-14T15:48:10.815167Z",
     "iopub.status.busy": "2023-12-14T15:48:10.814732Z",
     "iopub.status.idle": "2023-12-14T15:48:10.824791Z",
     "shell.execute_reply": "2023-12-14T15:48:10.823454Z"
    },
    "papermill": {
     "duration": 0.044797,
     "end_time": "2023-12-14T15:48:10.827266",
     "exception": false,
     "start_time": "2023-12-14T15:48:10.782469",
     "status": "completed"
    },
    "tags": []
   },
   "outputs": [],
   "source": [
    "# for Age\n",
    "q_hi = df['Age'].quantile(0.999)\n",
    "q_low = df['Age'].quantile(0.001)\n",
    "df = df[(df['Age']>q_low) & (df['Age']<q_hi)]"
   ]
  },
  {
   "cell_type": "code",
   "execution_count": 23,
   "id": "10d74115",
   "metadata": {
    "execution": {
     "iopub.execute_input": "2023-12-14T15:48:10.891021Z",
     "iopub.status.busy": "2023-12-14T15:48:10.890595Z",
     "iopub.status.idle": "2023-12-14T15:48:12.429089Z",
     "shell.execute_reply": "2023-12-14T15:48:12.428122Z"
    },
    "papermill": {
     "duration": 1.574072,
     "end_time": "2023-12-14T15:48:12.432306",
     "exception": false,
     "start_time": "2023-12-14T15:48:10.858234",
     "status": "completed"
    },
    "tags": []
   },
   "outputs": [
    {
     "data": {
      "image/png": "[encoded data removed]",
      "text/plain": [
       "<Figure size 2500x800 with 7 Axes>"
      ]
     },
     "metadata": {},
     "output_type": "display_data"
    }
   ],
   "source": [
    "#Visualizing again after removing outliers\n",
    "\n",
    "fig, ax= plt.subplots(nrows= 4, ncols = 2, figsize= (25,8))\n",
    "\n",
    "sns.scatterplot(x='Ind_ID', y='CHILDREN', data=df, ax=ax[0][0], color= 'orange')\n",
    "sns.scatterplot(x='Ind_ID', y='Annual_income', data=df, ax=ax[0][1], color='Green')\n",
    "sns.scatterplot(x='Ind_ID', y='Age', data=df, ax=ax[1][0], color ='yellow')\n",
    "sns.scatterplot(x='Ind_ID', y='Employment_Status', data=df, ax=ax[1][1])\n",
    "sns.scatterplot(x='Ind_ID', y='Family_Members', data=df, ax=ax[2][0], color= 'red')\n",
    "sns.scatterplot(x='Ind_ID', y='Marital_status', data=df, ax=ax[2][1])\n",
    "sns.scatterplot(x='Ind_ID', y='Propert_Owner', data=df, ax=ax[3][0])\n",
    "fig.delaxes(ax[3][1])"
   ]
  },
  {
   "cell_type": "code",
   "execution_count": 24,
   "id": "22bc3c5e",
   "metadata": {
    "execution": {
     "iopub.execute_input": "2023-12-14T15:48:12.501907Z",
     "iopub.status.busy": "2023-12-14T15:48:12.500940Z",
     "iopub.status.idle": "2023-12-14T15:48:12.510596Z",
     "shell.execute_reply": "2023-12-14T15:48:12.509269Z"
    },
    "papermill": {
     "duration": 0.046928,
     "end_time": "2023-12-14T15:48:12.513101",
     "exception": false,
     "start_time": "2023-12-14T15:48:12.466173",
     "status": "completed"
    },
    "tags": []
   },
   "outputs": [],
   "source": [
    "# lets check outlies\n",
    "\n",
    "\n",
    "from scipy.stats import zscore\n",
    "\n",
    "# Calculate the z-scores for the 'CHILDREN' column\n",
    "z_scores = zscore(df['Annual_income'])\n",
    "\n",
    "# Define a threshold for identifying outliers\n",
    "threshold = 3\n",
    "\n",
    "# Identify outliers based on the z-scores\n",
    "outliers = df[np.abs(z_scores) > threshold]"
   ]
  },
  {
   "cell_type": "code",
   "execution_count": 25,
   "id": "7a6220fe",
   "metadata": {
    "execution": {
     "iopub.execute_input": "2023-12-14T15:48:12.581600Z",
     "iopub.status.busy": "2023-12-14T15:48:12.581161Z",
     "iopub.status.idle": "2023-12-14T15:48:12.596313Z",
     "shell.execute_reply": "2023-12-14T15:48:12.595196Z"
    },
    "papermill": {
     "duration": 0.052419,
     "end_time": "2023-12-14T15:48:12.598701",
     "exception": false,
     "start_time": "2023-12-14T15:48:12.546282",
     "status": "completed"
    },
    "tags": []
   },
   "outputs": [
    {
     "data": {
      "text/html": [
       "<div>\n",
       "<style scoped>\n",
       "    .dataframe tbody tr th:only-of-type {\n",
       "        vertical-align: middle;\n",
       "    }\n",
       "\n",
       "    .dataframe tbody tr th {\n",
       "        vertical-align: top;\n",
       "    }\n",
       "\n",
       "    .dataframe thead th {\n",
       "        text-align: right;\n",
       "    }\n",
       "</style>\n",
       "<table border=\"1\" class=\"dataframe\">\n",
       "  <thead>\n",
       "    <tr style=\"text-align: right;\">\n",
       "      <th></th>\n",
       "      <th>Ind_ID</th>\n",
       "      <th>GENDER</th>\n",
       "      <th>Car_Owner</th>\n",
       "      <th>Propert_Owner</th>\n",
       "      <th>CHILDREN</th>\n",
       "      <th>Annual_income</th>\n",
       "      <th>Type_Income</th>\n",
       "      <th>EDUCATION</th>\n",
       "      <th>Marital_status</th>\n",
       "      <th>Housing_type</th>\n",
       "      <th>Family_Members</th>\n",
       "      <th>Age</th>\n",
       "      <th>Employment_Status</th>\n",
       "    </tr>\n",
       "  </thead>\n",
       "  <tbody>\n",
       "    <tr>\n",
       "      <th>855</th>\n",
       "      <td>5021584</td>\n",
       "      <td>0</td>\n",
       "      <td>0</td>\n",
       "      <td>0</td>\n",
       "      <td>1</td>\n",
       "      <td>5.265939</td>\n",
       "      <td>2</td>\n",
       "      <td>3</td>\n",
       "      <td>1</td>\n",
       "      <td>4</td>\n",
       "      <td>3</td>\n",
       "      <td>35.0</td>\n",
       "      <td>1</td>\n",
       "    </tr>\n",
       "  </tbody>\n",
       "</table>\n",
       "</div>"
      ],
      "text/plain": [
       "      Ind_ID  GENDER  Car_Owner  Propert_Owner  CHILDREN  Annual_income  \\\n",
       "855  5021584       0          0              0         1       5.265939   \n",
       "\n",
       "     Type_Income  EDUCATION  Marital_status  Housing_type  Family_Members  \\\n",
       "855            2          3               1             4               3   \n",
       "\n",
       "      Age  Employment_Status  \n",
       "855  35.0                  1  "
      ]
     },
     "execution_count": 25,
     "metadata": {},
     "output_type": "execute_result"
    }
   ],
   "source": [
    "outliers"
   ]
  },
  {
   "cell_type": "code",
   "execution_count": 26,
   "id": "cbd030fb",
   "metadata": {
    "execution": {
     "iopub.execute_input": "2023-12-14T15:48:12.669356Z",
     "iopub.status.busy": "2023-12-14T15:48:12.668906Z",
     "iopub.status.idle": "2023-12-14T15:48:12.688977Z",
     "shell.execute_reply": "2023-12-14T15:48:12.687744Z"
    },
    "papermill": {
     "duration": 0.058818,
     "end_time": "2023-12-14T15:48:12.691695",
     "exception": false,
     "start_time": "2023-12-14T15:48:12.632877",
     "status": "completed"
    },
    "tags": []
   },
   "outputs": [
    {
     "name": "stdout",
     "output_type": "stream",
     "text": [
      "<class 'pandas.core.frame.DataFrame'>\n",
      "Index: 340 entries, 8 to 1545\n",
      "Data columns (total 13 columns):\n",
      " #   Column             Non-Null Count  Dtype  \n",
      "---  ------             --------------  -----  \n",
      " 0   Ind_ID             340 non-null    int64  \n",
      " 1   GENDER             340 non-null    int64  \n",
      " 2   Car_Owner          340 non-null    int64  \n",
      " 3   Propert_Owner      340 non-null    int64  \n",
      " 4   CHILDREN           340 non-null    int64  \n",
      " 5   Annual_income      340 non-null    float64\n",
      " 6   Type_Income        340 non-null    int64  \n",
      " 7   EDUCATION          340 non-null    int64  \n",
      " 8   Marital_status     340 non-null    int64  \n",
      " 9   Housing_type       340 non-null    int64  \n",
      " 10  Family_Members     340 non-null    int64  \n",
      " 11  Age                340 non-null    float64\n",
      " 12  Employment_Status  340 non-null    int64  \n",
      "dtypes: float64(2), int64(11)\n",
      "memory usage: 37.2 KB\n"
     ]
    }
   ],
   "source": [
    "# We have significantly reduced the data set...\n",
    "df.info()"
   ]
  },
  {
   "cell_type": "markdown",
   "id": "be6e9709",
   "metadata": {
    "papermill": {
     "duration": 0.033548,
     "end_time": "2023-12-14T15:48:12.759053",
     "exception": false,
     "start_time": "2023-12-14T15:48:12.725505",
     "status": "completed"
    },
    "tags": []
   },
   "source": [
    "**Data Visualization**"
   ]
  },
  {
   "cell_type": "code",
   "execution_count": 27,
   "id": "78322e64",
   "metadata": {
    "execution": {
     "iopub.execute_input": "2023-12-14T15:48:12.828711Z",
     "iopub.status.busy": "2023-12-14T15:48:12.828329Z",
     "iopub.status.idle": "2023-12-14T15:48:15.765486Z",
     "shell.execute_reply": "2023-12-14T15:48:15.764178Z"
    },
    "papermill": {
     "duration": 2.975545,
     "end_time": "2023-12-14T15:48:15.768054",
     "exception": false,
     "start_time": "2023-12-14T15:48:12.792509",
     "status": "completed"
    },
    "tags": []
   },
   "outputs": [
    {
     "data": {
      "image/png": "[encoded data removed]",
      "text/plain": [
       "<Figure size 2500x1000 with 6 Axes>"
      ]
     },
     "metadata": {},
     "output_type": "display_data"
    }
   ],
   "source": [
    "fig, ax= plt.subplots(nrows= 2, ncols = 3, figsize= (25,10))\n",
    "\n",
    "sns.barplot(x='GENDER', y='Annual_income', data=df, ax=ax[0][0], color= 'orange')\n",
    "sns.barplot(x='Car_Owner', y='Annual_income', data=df, ax=ax[0][1], color= 'pink')\n",
    "sns.barplot(x='CHILDREN', y='Annual_income',hue='Type_Income', data=df, ax=ax[0][2], color= 'blue')\n",
    "sns.barplot(x='Type_Income', y='Annual_income',hue='EDUCATION', data=df, ax=ax[1][0], color= 'yellow')\n",
    "sns.barplot(x='Marital_status', y='Annual_income', hue='CHILDREN', data=df, ax=ax[1][1], color= 'green')\n",
    "sns.barplot(x='Housing_type', y='Annual_income', hue='Propert_Owner', data=df, ax=ax[1][2],color= 'black')\n",
    "sns.set(style='whitegrid')"
   ]
  },
  {
   "cell_type": "markdown",
   "id": "b9393940",
   "metadata": {
    "papermill": {
     "duration": 0.033483,
     "end_time": "2023-12-14T15:48:15.835394",
     "exception": false,
     "start_time": "2023-12-14T15:48:15.801911",
     "status": "completed"
    },
    "tags": []
   },
   "source": [
    "**Model selection, training and evaluation**"
   ]
  },
  {
   "cell_type": "code",
   "execution_count": 28,
   "id": "a8202d19",
   "metadata": {
    "execution": {
     "iopub.execute_input": "2023-12-14T15:48:15.905073Z",
     "iopub.status.busy": "2023-12-14T15:48:15.904387Z",
     "iopub.status.idle": "2023-12-14T15:48:15.919612Z",
     "shell.execute_reply": "2023-12-14T15:48:15.918841Z"
    },
    "papermill": {
     "duration": 0.053011,
     "end_time": "2023-12-14T15:48:15.922064",
     "exception": false,
     "start_time": "2023-12-14T15:48:15.869053",
     "status": "completed"
    },
    "tags": []
   },
   "outputs": [],
   "source": [
    "approval_data = pd.read_csv(\"/kaggle/input/predict-credit-card-approval/Credit_card_label.csv\")\n",
    "merged_data = df.merge(approval_data, on='Ind_ID', how='inner')"
   ]
  },
  {
   "cell_type": "code",
   "execution_count": 29,
   "id": "40079634",
   "metadata": {
    "execution": {
     "iopub.execute_input": "2023-12-14T15:48:15.992210Z",
     "iopub.status.busy": "2023-12-14T15:48:15.991249Z",
     "iopub.status.idle": "2023-12-14T15:48:15.996852Z",
     "shell.execute_reply": "2023-12-14T15:48:15.995835Z"
    },
    "papermill": {
     "duration": 0.043318,
     "end_time": "2023-12-14T15:48:15.999232",
     "exception": false,
     "start_time": "2023-12-14T15:48:15.955914",
     "status": "completed"
    },
    "tags": []
   },
   "outputs": [
    {
     "name": "stdout",
     "output_type": "stream",
     "text": [
      "approval_data_length: 340\n",
      "merged_data_length: 1548\n"
     ]
    }
   ],
   "source": [
    "print(\"approval_data_length:\",len(merged_data))\n",
    "print(\"merged_data_length:\", len(approval_data))"
   ]
  },
  {
   "cell_type": "code",
   "execution_count": 30,
   "id": "a4418cc9",
   "metadata": {
    "execution": {
     "iopub.execute_input": "2023-12-14T15:48:16.068423Z",
     "iopub.status.busy": "2023-12-14T15:48:16.067665Z",
     "iopub.status.idle": "2023-12-14T15:48:16.075400Z",
     "shell.execute_reply": "2023-12-14T15:48:16.074307Z"
    },
    "papermill": {
     "duration": 0.044884,
     "end_time": "2023-12-14T15:48:16.077635",
     "exception": false,
     "start_time": "2023-12-14T15:48:16.032751",
     "status": "completed"
    },
    "tags": []
   },
   "outputs": [
    {
     "data": {
      "text/plain": [
       "array([1, 0])"
      ]
     },
     "execution_count": 30,
     "metadata": {},
     "output_type": "execute_result"
    }
   ],
   "source": [
    "merged_data['label'].unique()"
   ]
  },
  {
   "cell_type": "code",
   "execution_count": 31,
   "id": "9425898f",
   "metadata": {
    "execution": {
     "iopub.execute_input": "2023-12-14T15:48:16.147756Z",
     "iopub.status.busy": "2023-12-14T15:48:16.146734Z",
     "iopub.status.idle": "2023-12-14T15:48:16.256290Z",
     "shell.execute_reply": "2023-12-14T15:48:16.255202Z"
    },
    "papermill": {
     "duration": 0.147602,
     "end_time": "2023-12-14T15:48:16.258993",
     "exception": false,
     "start_time": "2023-12-14T15:48:16.111391",
     "status": "completed"
    },
    "tags": []
   },
   "outputs": [],
   "source": [
    "from sklearn.metrics import accuracy_score, precision_score, recall_score, f1_score\n",
    "from sklearn.model_selection import train_test_split\n",
    "from sklearn.metrics import accuracy_score\n",
    "\n",
    "# Split the data into features (X) and target (y)\n",
    "X = merged_data.drop('label', axis=1)\n",
    "y = merged_data['label']\n",
    "\n",
    "# Split the data into training and testing sets\n",
    "X_train, X_test, y_train, y_test = train_test_split(X, y, test_size=0.2, random_state=42)"
   ]
  },
  {
   "cell_type": "code",
   "execution_count": 32,
   "id": "8e55c678",
   "metadata": {
    "execution": {
     "iopub.execute_input": "2023-12-14T15:48:16.329208Z",
     "iopub.status.busy": "2023-12-14T15:48:16.328760Z",
     "iopub.status.idle": "2023-12-14T15:48:16.336037Z",
     "shell.execute_reply": "2023-12-14T15:48:16.335175Z"
    },
    "papermill": {
     "duration": 0.045195,
     "end_time": "2023-12-14T15:48:16.338151",
     "exception": false,
     "start_time": "2023-12-14T15:48:16.292956",
     "status": "completed"
    },
    "tags": []
   },
   "outputs": [
    {
     "data": {
      "text/plain": [
       "0    1\n",
       "1    1\n",
       "2    1\n",
       "3    1\n",
       "4    1\n",
       "Name: label, dtype: int64"
      ]
     },
     "execution_count": 32,
     "metadata": {},
     "output_type": "execute_result"
    }
   ],
   "source": [
    "#X.head()\n",
    "y.head()"
   ]
  },
  {
   "cell_type": "code",
   "execution_count": 33,
   "id": "2e76f74e",
   "metadata": {
    "execution": {
     "iopub.execute_input": "2023-12-14T15:48:16.409744Z",
     "iopub.status.busy": "2023-12-14T15:48:16.408631Z",
     "iopub.status.idle": "2023-12-14T15:48:16.414934Z",
     "shell.execute_reply": "2023-12-14T15:48:16.413413Z"
    },
    "papermill": {
     "duration": 0.045166,
     "end_time": "2023-12-14T15:48:16.417188",
     "exception": false,
     "start_time": "2023-12-14T15:48:16.372022",
     "status": "completed"
    },
    "tags": []
   },
   "outputs": [
    {
     "name": "stdout",
     "output_type": "stream",
     "text": [
      "(272, 13)\n",
      "(272,)\n"
     ]
    }
   ],
   "source": [
    "print(X_train.shape)\n",
    "print(y_train.shape)"
   ]
  },
  {
   "cell_type": "code",
   "execution_count": 34,
   "id": "5437a605",
   "metadata": {
    "execution": {
     "iopub.execute_input": "2023-12-14T15:48:16.488294Z",
     "iopub.status.busy": "2023-12-14T15:48:16.487887Z",
     "iopub.status.idle": "2023-12-14T15:48:16.494324Z",
     "shell.execute_reply": "2023-12-14T15:48:16.493305Z"
    },
    "papermill": {
     "duration": 0.045059,
     "end_time": "2023-12-14T15:48:16.496741",
     "exception": false,
     "start_time": "2023-12-14T15:48:16.451682",
     "status": "completed"
    },
    "tags": []
   },
   "outputs": [
    {
     "name": "stdout",
     "output_type": "stream",
     "text": [
      "label\n",
      "0    244\n",
      "1     28\n",
      "Name: count, dtype: int64\n"
     ]
    }
   ],
   "source": [
    "a = y_train.value_counts()\n",
    "print(a)"
   ]
  },
  {
   "cell_type": "code",
   "execution_count": 35,
   "id": "6548e36f",
   "metadata": {
    "execution": {
     "iopub.execute_input": "2023-12-14T15:48:16.567898Z",
     "iopub.status.busy": "2023-12-14T15:48:16.567391Z",
     "iopub.status.idle": "2023-12-14T15:48:17.003183Z",
     "shell.execute_reply": "2023-12-14T15:48:17.002218Z"
    },
    "papermill": {
     "duration": 0.474699,
     "end_time": "2023-12-14T15:48:17.005849",
     "exception": false,
     "start_time": "2023-12-14T15:48:16.531150",
     "status": "completed"
    },
    "tags": []
   },
   "outputs": [],
   "source": [
    "#Using SMOTE algorithm to make up for the lack of data\n",
    "#SMOTE, which stands for Synthetic Minority Over-sampling Technique, is an algorithm used in machine learning and data mining to address the class imbalance problem. \n",
    "\n",
    "from imblearn.over_sampling import SMOTE\n",
    "\n",
    "oversample = SMOTE()\n",
    "X_balanced, y_balanced = oversample.fit_resample(X_train, y_train)\n",
    "X_test_balanced, y_test_balanced = oversample.fit_resample(X_test, y_test)"
   ]
  },
  {
   "cell_type": "code",
   "execution_count": 36,
   "id": "4104a161",
   "metadata": {
    "execution": {
     "iopub.execute_input": "2023-12-14T15:48:17.079471Z",
     "iopub.status.busy": "2023-12-14T15:48:17.078870Z",
     "iopub.status.idle": "2023-12-14T15:48:17.088373Z",
     "shell.execute_reply": "2023-12-14T15:48:17.086844Z"
    },
    "papermill": {
     "duration": 0.049404,
     "end_time": "2023-12-14T15:48:17.090874",
     "exception": false,
     "start_time": "2023-12-14T15:48:17.041470",
     "status": "completed"
    },
    "tags": []
   },
   "outputs": [
    {
     "name": "stdout",
     "output_type": "stream",
     "text": [
      "label\n",
      "0    244\n",
      "1     28\n",
      "Name: count, dtype: int64 \n",
      "\n",
      " label\n",
      "0    244\n",
      "1    244\n",
      "Name: count, dtype: int64\n"
     ]
    }
   ],
   "source": [
    "# compare the amount of data before and after the SMOTE algorithm.\n",
    "# As we can see, now the number of debtors\n",
    "# and people who have no debts (or do not have a credit history) are equal,\n",
    "# and we can safely train our model.\n",
    "\n",
    "a = y_train.value_counts()\n",
    "b = y_balanced.value_counts()\n",
    "print(a, \"\\n\\n\", b)"
   ]
  },
  {
   "cell_type": "code",
   "execution_count": 37,
   "id": "958c0fab",
   "metadata": {
    "execution": {
     "iopub.execute_input": "2023-12-14T15:48:17.162038Z",
     "iopub.status.busy": "2023-12-14T15:48:17.161605Z",
     "iopub.status.idle": "2023-12-14T15:48:17.169754Z",
     "shell.execute_reply": "2023-12-14T15:48:17.168622Z"
    },
    "papermill": {
     "duration": 0.046769,
     "end_time": "2023-12-14T15:48:17.172261",
     "exception": false,
     "start_time": "2023-12-14T15:48:17.125492",
     "status": "completed"
    },
    "tags": []
   },
   "outputs": [
    {
     "name": "stdout",
     "output_type": "stream",
     "text": [
      "label\n",
      "0    62\n",
      "1     6\n",
      "Name: count, dtype: int64 \n",
      "\n",
      " label\n",
      "0    62\n",
      "1    62\n",
      "Name: count, dtype: int64\n"
     ]
    }
   ],
   "source": [
    "a = y_test.value_counts()\n",
    "b = y_test_balanced.value_counts()\n",
    "print(a, \"\\n\\n\", b)"
   ]
  },
  {
   "cell_type": "markdown",
   "id": "b7af19fd",
   "metadata": {
    "papermill": {
     "duration": 0.034259,
     "end_time": "2023-12-14T15:48:17.241130",
     "exception": false,
     "start_time": "2023-12-14T15:48:17.206871",
     "status": "completed"
    },
    "tags": []
   },
   "source": [
    "After over sampling, the number between 1 and 0 is balanced. It can be seen from the confusion matrix."
   ]
  },
  {
   "cell_type": "markdown",
   "id": "a9f0b207",
   "metadata": {
    "papermill": {
     "duration": 0.035006,
     "end_time": "2023-12-14T15:48:17.310653",
     "exception": false,
     "start_time": "2023-12-14T15:48:17.275647",
     "status": "completed"
    },
    "tags": []
   },
   "source": [
    "NOTE: the unclassified features like annual income can have an impact on the performance of the classification models. In logistic regression and support vector machines, for example, the assumption is that there is a linear relationship between the features and the log-odds of the target variable. If the relationship between the annual income and the target variable is not linear, logistic regression may not be able to capture it effectively.\n",
    "\n",
    "Other classification algorithms, such as random forests, or gradient boosting algorithms, are more flexible and can capture nonlinear relationships between the features and the target variable. These algorithms can handle complex interactions and patterns in the data, including the impact of unclassified features like annual income."
   ]
  },
  {
   "cell_type": "markdown",
   "id": "62e3f5e4",
   "metadata": {
    "papermill": {
     "duration": 0.034148,
     "end_time": "2023-12-14T15:48:17.379233",
     "exception": false,
     "start_time": "2023-12-14T15:48:17.345085",
     "status": "completed"
    },
    "tags": []
   },
   "source": [
    "**Logistic Regression model**"
   ]
  },
  {
   "cell_type": "code",
   "execution_count": 38,
   "id": "6e356f38",
   "metadata": {
    "execution": {
     "iopub.execute_input": "2023-12-14T15:48:17.450222Z",
     "iopub.status.busy": "2023-12-14T15:48:17.449840Z",
     "iopub.status.idle": "2023-12-14T15:48:17.483961Z",
     "shell.execute_reply": "2023-12-14T15:48:17.482598Z"
    },
    "papermill": {
     "duration": 0.072593,
     "end_time": "2023-12-14T15:48:17.486528",
     "exception": false,
     "start_time": "2023-12-14T15:48:17.413935",
     "status": "completed"
    },
    "tags": []
   },
   "outputs": [
    {
     "name": "stdout",
     "output_type": "stream",
     "text": [
      "Accuracy: 0.9117647058823529\n",
      "Precision: 0.0\n",
      "Recall: 0.0\n",
      "F1 Score: 0.0\n"
     ]
    },
    {
     "name": "stderr",
     "output_type": "stream",
     "text": [
      "/opt/conda/lib/python3.10/site-packages/sklearn/metrics/_classification.py:1344: UndefinedMetricWarning: Precision is ill-defined and being set to 0.0 due to no predicted samples. Use `zero_division` parameter to control this behavior.\n",
      "  _warn_prf(average, modifier, msg_start, len(result))\n"
     ]
    }
   ],
   "source": [
    "from sklearn.linear_model import LogisticRegression\n",
    "model = LogisticRegression()\n",
    "\n",
    "# Train the model\n",
    "model.fit(X_train, y_train)\n",
    "\n",
    "# Make predictions on the test set\n",
    "y_pred = model.predict(X_test)\n",
    "\n",
    "\n",
    "accuracy = accuracy_score(y_test, y_pred)\n",
    "precision = precision_score(y_test, y_pred)\n",
    "recall = recall_score(y_test, y_pred)\n",
    "f1 = f1_score(y_test, y_pred)\n",
    "\n",
    "# Print the evaluation metrics\n",
    "print(\"Accuracy:\", accuracy)\n",
    "print(\"Precision:\", precision)\n",
    "print(\"Recall:\", recall)\n",
    "print(\"F1 Score:\", f1)"
   ]
  },
  {
   "cell_type": "markdown",
   "id": "c0b17a00",
   "metadata": {
    "papermill": {
     "duration": 0.034549,
     "end_time": "2023-12-14T15:48:17.556569",
     "exception": false,
     "start_time": "2023-12-14T15:48:17.522020",
     "status": "completed"
    },
    "tags": []
   },
   "source": [
    "Accuracy, precision, recall, and F1 score are metrics commonly used to evaluate the performance of classification models"
   ]
  },
  {
   "cell_type": "markdown",
   "id": "0b23d622",
   "metadata": {
    "papermill": {
     "duration": 0.035692,
     "end_time": "2023-12-14T15:48:17.627334",
     "exception": false,
     "start_time": "2023-12-14T15:48:17.591642",
     "status": "completed"
    },
    "tags": []
   },
   "source": [
    "**SVM model**"
   ]
  },
  {
   "cell_type": "code",
   "execution_count": 39,
   "id": "b8198fb9",
   "metadata": {
    "execution": {
     "iopub.execute_input": "2023-12-14T15:48:17.700049Z",
     "iopub.status.busy": "2023-12-14T15:48:17.699619Z",
     "iopub.status.idle": "2023-12-14T15:48:17.722424Z",
     "shell.execute_reply": "2023-12-14T15:48:17.721197Z"
    },
    "papermill": {
     "duration": 0.062428,
     "end_time": "2023-12-14T15:48:17.725168",
     "exception": false,
     "start_time": "2023-12-14T15:48:17.662740",
     "status": "completed"
    },
    "tags": []
   },
   "outputs": [
    {
     "name": "stdout",
     "output_type": "stream",
     "text": [
      "Support Vector Machines (SVM):\n",
      "Accuracy: 0.9117647058823529\n",
      "Precision: 0.0\n",
      "Recall: 0.0\n",
      "F1 Score: 0.0\n"
     ]
    },
    {
     "name": "stderr",
     "output_type": "stream",
     "text": [
      "/opt/conda/lib/python3.10/site-packages/sklearn/metrics/_classification.py:1344: UndefinedMetricWarning: Precision is ill-defined and being set to 0.0 due to no predicted samples. Use `zero_division` parameter to control this behavior.\n",
      "  _warn_prf(average, modifier, msg_start, len(result))\n"
     ]
    }
   ],
   "source": [
    "from sklearn.svm import SVC\n",
    "\n",
    "# Create an SVM model\n",
    "model_svm = SVC()\n",
    "\n",
    "# Train the model\n",
    "model_svm.fit(X_train, y_train)\n",
    "\n",
    "# Make predictions on the test set\n",
    "y_pred_svm = model_svm.predict(X_test)\n",
    "\n",
    "# Evaluate the model\n",
    "accuracy_svm = accuracy_score(y_test, y_pred_svm)\n",
    "precision_svm = precision_score(y_test, y_pred_svm)\n",
    "recall_svm = recall_score(y_test, y_pred_svm)\n",
    "f1_svm = f1_score(y_test, y_pred_svm)\n",
    "\n",
    "# Print the evaluation metrics\n",
    "print(\"Support Vector Machines (SVM):\")\n",
    "print(\"Accuracy:\", accuracy_svm)\n",
    "print(\"Precision:\", precision_svm)\n",
    "print(\"Recall:\", recall_svm)\n",
    "print(\"F1 Score:\", f1_svm)"
   ]
  },
  {
   "cell_type": "markdown",
   "id": "43ecc50b",
   "metadata": {
    "papermill": {
     "duration": 0.042987,
     "end_time": "2023-12-14T15:48:17.805211",
     "exception": false,
     "start_time": "2023-12-14T15:48:17.762224",
     "status": "completed"
    },
    "tags": []
   },
   "source": [
    "**Bagging, AdaBoost, and Random Forest classifiers**"
   ]
  },
  {
   "cell_type": "code",
   "execution_count": 40,
   "id": "35e977c4",
   "metadata": {
    "execution": {
     "iopub.execute_input": "2023-12-14T15:48:17.884561Z",
     "iopub.status.busy": "2023-12-14T15:48:17.883436Z",
     "iopub.status.idle": "2023-12-14T15:48:18.788724Z",
     "shell.execute_reply": "2023-12-14T15:48:18.787597Z"
    },
    "papermill": {
     "duration": 0.944083,
     "end_time": "2023-12-14T15:48:18.791193",
     "exception": false,
     "start_time": "2023-12-14T15:48:17.847110",
     "status": "completed"
    },
    "tags": []
   },
   "outputs": [
    {
     "name": "stdout",
     "output_type": "stream",
     "text": [
      "Gradient Boosting:\n",
      "Accuracy: 0.9558823529411765\n",
      "Precision: 0.8\n",
      "Recall: 0.6666666666666666\n",
      "F1 Score: 0.7272727272727272\n",
      "Accuracy: 0.9411764705882353\n",
      "Precision: 0.6666666666666666\n",
      "Recall: 0.6666666666666666\n",
      "F1 Score: 0.6666666666666666\n",
      "Accuracy: 0.8676470588235294\n",
      "Precision: 0.36363636363636365\n",
      "Recall: 0.6666666666666666\n",
      "F1 Score: 0.4705882352941177\n",
      "----------------------\n",
      "Accuracy: 0.8823529411764706\n",
      "Precision: 0.0\n",
      "Recall: 0.0\n",
      "F1 Score: 0.0\n",
      "Bagging Classifier:\n",
      "Accuracy: 0.9411764705882353\n",
      "Precision: 0.75\n",
      "Recall: 0.5\n",
      "F1 Score: 0.6\n",
      "----------------------\n",
      "AdaBoost Classifier:\n",
      "Accuracy: 0.9411764705882353\n",
      "Precision: 0.75\n",
      "Recall: 0.5\n",
      "F1 Score: 0.6\n",
      "----------------------\n",
      "Random Forest Classifier:\n",
      "Accuracy: 0.9558823529411765\n",
      "Precision: 0.8\n",
      "Recall: 0.6666666666666666\n",
      "F1 Score: 0.7272727272727272\n",
      "----------------------\n"
     ]
    }
   ],
   "source": [
    "from sklearn.ensemble import GradientBoostingClassifier\n",
    "import xgboost as xgb\n",
    "from sklearn.tree import DecisionTreeClassifier\n",
    "from sklearn.neighbors import KNeighborsClassifier\n",
    "from sklearn.ensemble import BaggingClassifier, AdaBoostClassifier, RandomForestClassifier\n",
    "from sklearn.metrics import accuracy_score, precision_score, recall_score, f1_score\n",
    "\n",
    "\n",
    "# Create an ensemble of Bagging, AdaBoost, and Random Forest classifiers\n",
    "model_gb = GradientBoostingClassifier()\n",
    "xgboost = xgb.XGBClassifier()\n",
    "dt = DecisionTreeClassifier()\n",
    "knn = KNeighborsClassifier()\n",
    "bagging = BaggingClassifier()\n",
    "adaboost = AdaBoostClassifier()\n",
    "random_forest = RandomForestClassifier()\n",
    "\n",
    "\n",
    "# Train the models\n",
    "model_gb.fit(X_train, y_train)\n",
    "xgboost.fit(X_train, y_train)\n",
    "dt.fit(X_train, y_train)\n",
    "knn.fit(X_train, y_train)\n",
    "bagging.fit(X_train, y_train)\n",
    "adaboost.fit(X_train, y_train)\n",
    "random_forest.fit(X_train, y_train)\n",
    "\n",
    "# Make predictions on the test set of GradientBoostingClassifier\n",
    "y_pred_gb = model_gb.predict(X_test)\n",
    "\n",
    "# Evaluate the model\n",
    "accuracy_gb = accuracy_score(y_test, y_pred_gb)\n",
    "precision_gb = precision_score(y_test, y_pred_gb)\n",
    "recall_gb = recall_score(y_test, y_pred_gb)\n",
    "f1_gb = f1_score(y_test, y_pred_gb)\n",
    "\n",
    "# Make predictions on the test set of xgboost\n",
    "y_pred_xgboost = xgboost.predict(X_test)\n",
    "\n",
    "# Evaluate the model\n",
    "accuracy_xgboost = accuracy_score(y_test, y_pred_xgboost)\n",
    "precision_xgboost = precision_score(y_test, y_pred_xgboost)\n",
    "recall_xgboost = recall_score(y_test, y_pred_xgboost)\n",
    "f1_xgboost = f1_score(y_test, y_pred_xgboost)\n",
    "\n",
    "# Make predictions on the test set of DecisionTreeClassifier\n",
    "y_pred_dt = dt.predict(X_test)\n",
    "\n",
    "# Evaluate the model\n",
    "accuracy_dt = accuracy_score(y_test, y_pred_dt)\n",
    "precision_dt = precision_score(y_test, y_pred_dt)\n",
    "recall_dt = recall_score(y_test, y_pred_dt)\n",
    "f1_dt = f1_score(y_test, y_pred_dt)\n",
    "\n",
    "\n",
    "# Make predictions on the test set of KNeighborsClassifier\n",
    "y_pred_knn = knn.predict(X_test)\n",
    "\n",
    "# Evaluate the model\n",
    "accuracy_knn = accuracy_score(y_test, y_pred_knn)\n",
    "precision_knn = precision_score(y_test, y_pred_knn)\n",
    "recall_knn = recall_score(y_test, y_pred_knn)\n",
    "f1_knn = f1_score(y_test, y_pred_knn)\n",
    "\n",
    "# Make predictions using the Bagging Classifier\n",
    "y_pred_bagging = bagging.predict(X_test)\n",
    "\n",
    "# Calculate the evaluation metrics for Bagging Classifier\n",
    "accuracy_bagging = accuracy_score(y_test, y_pred_bagging)\n",
    "precision_bagging = precision_score(y_test, y_pred_bagging)\n",
    "recall_bagging = recall_score(y_test, y_pred_bagging)\n",
    "f1_bagging = f1_score(y_test, y_pred_bagging)\n",
    "\n",
    "# Make predictions using the AdaBoost Classifier\n",
    "y_pred_adaboost = adaboost.predict(X_test)\n",
    "\n",
    "# Calculate the evaluation metrics for AdaBoost Classifier\n",
    "accuracy_adaboost = accuracy_score(y_test, y_pred_adaboost)\n",
    "precision_adaboost = precision_score(y_test, y_pred_adaboost)\n",
    "recall_adaboost = recall_score(y_test, y_pred_adaboost)\n",
    "f1_adaboost = f1_score(y_test, y_pred_adaboost)\n",
    "\n",
    "# Make predictions using the Random Forest Classifier\n",
    "y_pred_random_forest = random_forest.predict(X_test)\n",
    "\n",
    "# Calculate the evaluation metrics for Random Forest Classifier\n",
    "accuracy_random_forest = accuracy_score(y_test, y_pred_random_forest)\n",
    "precision_random_forest = precision_score(y_test, y_pred_random_forest)\n",
    "recall_random_forest = recall_score(y_test, y_pred_random_forest)\n",
    "f1_random_forest = f1_score(y_test, y_pred_random_forest)\n",
    "\n",
    "\n",
    "# Print the evaluation metrics\n",
    "print(\"Gradient Boosting:\")\n",
    "print(\"Accuracy:\", accuracy_gb)\n",
    "print(\"Precision:\", precision_gb)\n",
    "print(\"Recall:\", recall_gb)\n",
    "print(\"F1 Score:\", f1_gb)\n",
    "\n",
    "# Print the evaluation metrics\n",
    "print(\"Accuracy:\", accuracy_xgboost)\n",
    "print(\"Precision:\", precision_xgboost)\n",
    "print(\"Recall:\", recall_xgboost)\n",
    "print(\"F1 Score:\", f1_xgboost)\n",
    "\n",
    "\n",
    "# Print the evaluation metrics\n",
    "print(\"Accuracy:\", accuracy_dt)\n",
    "print(\"Precision:\", precision_dt)\n",
    "print(\"Recall:\", recall_dt)\n",
    "print(\"F1 Score:\", f1_dt)\n",
    "print(\"----------------------\")\n",
    "\n",
    "\n",
    "# Print the evaluation metrics\n",
    "print(\"Accuracy:\", accuracy_knn)\n",
    "print(\"Precision:\", precision_knn)\n",
    "print(\"Recall:\", recall_knn)\n",
    "print(\"F1 Score:\", f1_knn)\n",
    "\n",
    "\n",
    "# Print the evaluation metrics for Bagging Classifier\n",
    "print(\"Bagging Classifier:\")\n",
    "print(\"Accuracy:\", accuracy_bagging)\n",
    "print(\"Precision:\", precision_bagging)\n",
    "print(\"Recall:\", recall_bagging)\n",
    "print(\"F1 Score:\", f1_bagging)\n",
    "print(\"----------------------\")\n",
    "\n",
    "# Print the evaluation metrics for AdaBoost Classifier\n",
    "print(\"AdaBoost Classifier:\")\n",
    "print(\"Accuracy:\", accuracy_adaboost)\n",
    "print(\"Precision:\", precision_adaboost)\n",
    "print(\"Recall:\", recall_adaboost)\n",
    "print(\"F1 Score:\", f1_adaboost)\n",
    "print(\"----------------------\")\n",
    "\n",
    "# Print the evaluation metrics for Random Forest Classifier\n",
    "print(\"Random Forest Classifier:\")\n",
    "print(\"Accuracy:\", accuracy_random_forest)\n",
    "print(\"Precision:\", precision_random_forest)\n",
    "print(\"Recall:\", recall_random_forest)\n",
    "print(\"F1 Score:\", f1_random_forest)\n",
    "print(\"----------------------\")"
   ]
  },
  {
   "cell_type": "markdown",
   "id": "cd052830",
   "metadata": {
    "papermill": {
     "duration": 0.034974,
     "end_time": "2023-12-14T15:48:18.862215",
     "exception": false,
     "start_time": "2023-12-14T15:48:18.827241",
     "status": "completed"
    },
    "tags": []
   },
   "source": [
    "For credit card approval, in addition to accuracy, precision, recall, and F1 score, there are several other factors you can consider when evaluating and comparing classifiers:\n",
    "\n",
    "Computational Efficiency: Consider the computational resources required by each classifier. Some classifiers may be computationally more efficient than others, which can be important if you have a large dataset or limited computing power.\n",
    "\n",
    "Interpretabiity: Depending on the context and regulatory requirements, interpretability of the model may be important. Some classifiers, such as logistic regression and decision trees, provide interpretable models that allow you to understand the factors influencing the credit card approval decision.\n",
    "\n",
    "Feature Importance: Explore the feature importance provided by certain classifiers, such as decision trees or random forests. This can help you understand which features are most relevant in the credit card approval process.\n",
    "\n",
    "Accuracy: Accuracy measures the overall correctness of the classifier's predictions. A higher accuracy indicates a higher proportion of correct predictions.\n",
    "\n",
    "Precision: Precision measures the proportion of correctly predicted positive instances (e.g., approved credit card applications) among all instances predicted as positive. A higher precision indicates a lower rate of false positives.If minimizing false positive errors is crucial in your credit card approval system (e.g., to avoid approving risky applications), i should prioritize higher precision.\n",
    "\n",
    "Recall: Recall, also known as sensitivity or true positive rate, measures the proportion of correctly predicted positive instances among all actual positive instances. A higher recall indicates a lower rate of false negatives. If minimizing false negative errors is important in your credit card approval system (e.g., to avoid rejecting potentially good applications), i should prioritize higher recall.\n",
    "\n",
    "F1 Score: The F1 score is the harmonic mean of precision and recall. It provides a balanced measure between precision and recall, taking into account both false positives and false negatives. The F1 score is useful when you want to strike a balance between precision and recall. It is especially helpful when you have an imbalanced dataset or when the cost of false positives and false negatives is not significantly different."
   ]
  },
  {
   "cell_type": "code",
   "execution_count": 41,
   "id": "49e2b4c3",
   "metadata": {
    "execution": {
     "iopub.execute_input": "2023-12-14T15:48:18.934239Z",
     "iopub.status.busy": "2023-12-14T15:48:18.933161Z",
     "iopub.status.idle": "2023-12-14T15:48:18.951711Z",
     "shell.execute_reply": "2023-12-14T15:48:18.950569Z"
    },
    "papermill": {
     "duration": 0.057377,
     "end_time": "2023-12-14T15:48:18.954351",
     "exception": false,
     "start_time": "2023-12-14T15:48:18.896974",
     "status": "completed"
    },
    "tags": []
   },
   "outputs": [
    {
     "data": {
      "text/html": [
       "<div>\n",
       "<style scoped>\n",
       "    .dataframe tbody tr th:only-of-type {\n",
       "        vertical-align: middle;\n",
       "    }\n",
       "\n",
       "    .dataframe tbody tr th {\n",
       "        vertical-align: top;\n",
       "    }\n",
       "\n",
       "    .dataframe thead th {\n",
       "        text-align: right;\n",
       "    }\n",
       "</style>\n",
       "<table border=\"1\" class=\"dataframe\">\n",
       "  <thead>\n",
       "    <tr style=\"text-align: right;\">\n",
       "      <th></th>\n",
       "      <th>Algorithm</th>\n",
       "      <th>Accuracy</th>\n",
       "      <th>Precision</th>\n",
       "      <th>Recall</th>\n",
       "      <th>F1 Score</th>\n",
       "    </tr>\n",
       "  </thead>\n",
       "  <tbody>\n",
       "    <tr>\n",
       "      <th>0</th>\n",
       "      <td>GradientBoostingClassifiern</td>\n",
       "      <td>0.955882</td>\n",
       "      <td>0.800000</td>\n",
       "      <td>0.666667</td>\n",
       "      <td>0.727273</td>\n",
       "    </tr>\n",
       "    <tr>\n",
       "      <th>1</th>\n",
       "      <td>Random Forest</td>\n",
       "      <td>0.955882</td>\n",
       "      <td>0.800000</td>\n",
       "      <td>0.666667</td>\n",
       "      <td>0.727273</td>\n",
       "    </tr>\n",
       "    <tr>\n",
       "      <th>2</th>\n",
       "      <td>DecisionTreeClassifier</td>\n",
       "      <td>0.867647</td>\n",
       "      <td>0.363636</td>\n",
       "      <td>0.666667</td>\n",
       "      <td>0.470588</td>\n",
       "    </tr>\n",
       "    <tr>\n",
       "      <th>3</th>\n",
       "      <td>SVM</td>\n",
       "      <td>0.911765</td>\n",
       "      <td>0.000000</td>\n",
       "      <td>0.000000</td>\n",
       "      <td>0.000000</td>\n",
       "    </tr>\n",
       "    <tr>\n",
       "      <th>4</th>\n",
       "      <td>XGBoost</td>\n",
       "      <td>0.941176</td>\n",
       "      <td>0.666667</td>\n",
       "      <td>0.666667</td>\n",
       "      <td>0.666667</td>\n",
       "    </tr>\n",
       "    <tr>\n",
       "      <th>5</th>\n",
       "      <td>K-Nearest Neighbors</td>\n",
       "      <td>0.882353</td>\n",
       "      <td>0.000000</td>\n",
       "      <td>0.000000</td>\n",
       "      <td>0.000000</td>\n",
       "    </tr>\n",
       "    <tr>\n",
       "      <th>6</th>\n",
       "      <td>BaggingClassifier</td>\n",
       "      <td>0.941176</td>\n",
       "      <td>0.750000</td>\n",
       "      <td>0.500000</td>\n",
       "      <td>0.600000</td>\n",
       "    </tr>\n",
       "    <tr>\n",
       "      <th>7</th>\n",
       "      <td>AdaBoostClassifier</td>\n",
       "      <td>0.941176</td>\n",
       "      <td>0.750000</td>\n",
       "      <td>0.500000</td>\n",
       "      <td>0.600000</td>\n",
       "    </tr>\n",
       "  </tbody>\n",
       "</table>\n",
       "</div>"
      ],
      "text/plain": [
       "                     Algorithm  Accuracy  Precision    Recall  F1 Score\n",
       "0  GradientBoostingClassifiern  0.955882   0.800000  0.666667  0.727273\n",
       "1                Random Forest  0.955882   0.800000  0.666667  0.727273\n",
       "2       DecisionTreeClassifier  0.867647   0.363636  0.666667  0.470588\n",
       "3                          SVM  0.911765   0.000000  0.000000  0.000000\n",
       "4                      XGBoost  0.941176   0.666667  0.666667  0.666667\n",
       "5          K-Nearest Neighbors  0.882353   0.000000  0.000000  0.000000\n",
       "6            BaggingClassifier  0.941176   0.750000  0.500000  0.600000\n",
       "7           AdaBoostClassifier  0.941176   0.750000  0.500000  0.600000"
      ]
     },
     "execution_count": 41,
     "metadata": {},
     "output_type": "execute_result"
    }
   ],
   "source": [
    "# Create a dictionary to store the evaluation metrics\n",
    "metrics = {\n",
    "    'Algorithm': ['GradientBoostingClassifiern', 'Random Forest','DecisionTreeClassifier', 'SVM', 'XGBoost', 'K-Nearest Neighbors','BaggingClassifier','AdaBoostClassifier'],\n",
    "    'Accuracy': [accuracy_gb, accuracy_random_forest,accuracy_dt, accuracy_svm, accuracy_xgboost, accuracy_knn, accuracy_bagging, accuracy_adaboost],\n",
    "    'Precision': [precision_gb, precision_random_forest,precision_dt, precision_svm, precision_xgboost, precision_knn, precision_bagging, precision_adaboost],\n",
    "    'Recall': [recall_gb, recall_random_forest, recall_dt, recall_svm, recall_xgboost, recall_knn, recall_bagging, recall_adaboost],\n",
    "    'F1 Score': [f1_gb, f1_random_forest, f1_dt, f1_svm, f1_xgboost, f1_knn, f1_bagging, f1_adaboost]\n",
    "}\n",
    "\n",
    "# Create a DataFrame from the dictionary\n",
    "metrics_df = pd.DataFrame(metrics)\n",
    "\n",
    "# Display the DataFrame\n",
    "metrics_df"
   ]
  },
  {
   "cell_type": "markdown",
   "id": "14cc8c57",
   "metadata": {
    "papermill": {
     "duration": 0.035584,
     "end_time": "2023-12-14T15:48:19.025952",
     "exception": false,
     "start_time": "2023-12-14T15:48:18.990368",
     "status": "completed"
    },
    "tags": []
   },
   "source": [
    "Considering the algorithm with the highest precision. Precision represents the proportion of correctly predicted positive instances (approved credit cards) out of all predicted positive instances.\n",
    "\n",
    "Based on the table above provided, the Random Forest algorithm has the highest precision among the listed algorithms.\n",
    "\n",
    "Therefore, Random Forest can be considered as a better choice for credit card approval in this case"
   ]
  },
  {
   "cell_type": "markdown",
   "id": "dce5a7cc",
   "metadata": {
    "papermill": {
     "duration": 0.035398,
     "end_time": "2023-12-14T15:48:19.096910",
     "exception": false,
     "start_time": "2023-12-14T15:48:19.061512",
     "status": "completed"
    },
    "tags": []
   },
   "source": [
    "**Using SQL performing below questions**\n",
    "\n",
    "* Group the customers based on their income type and find the average of their annual income.\n",
    "\n",
    "* Find the female owners of cars and property.\n",
    "\n",
    "* Find the male customers who are staying with their families.\n",
    "\n",
    "* Please list the top five people having the highest income.\n",
    "\n",
    "* What is the highest education level and what is the total count?"
   ]
  },
  {
   "cell_type": "code",
   "execution_count": 42,
   "id": "37fc0fbd",
   "metadata": {
    "execution": {
     "iopub.execute_input": "2023-12-14T15:48:19.170766Z",
     "iopub.status.busy": "2023-12-14T15:48:19.169571Z",
     "iopub.status.idle": "2023-12-14T15:48:19.182634Z",
     "shell.execute_reply": "2023-12-14T15:48:19.181848Z"
    },
    "papermill": {
     "duration": 0.052549,
     "end_time": "2023-12-14T15:48:19.184966",
     "exception": false,
     "start_time": "2023-12-14T15:48:19.132417",
     "status": "completed"
    },
    "tags": []
   },
   "outputs": [],
   "source": [
    "file_path11 = \"/kaggle/input/predict-credit-card-approval/Credit_card.csv\"\n",
    "df11 = pd.read_csv(file_path11)"
   ]
  },
  {
   "cell_type": "code",
   "execution_count": 43,
   "id": "08cf938e",
   "metadata": {
    "execution": {
     "iopub.execute_input": "2023-12-14T15:48:19.258963Z",
     "iopub.status.busy": "2023-12-14T15:48:19.258320Z",
     "iopub.status.idle": "2023-12-14T15:48:19.267300Z",
     "shell.execute_reply": "2023-12-14T15:48:19.266550Z"
    },
    "papermill": {
     "duration": 0.048955,
     "end_time": "2023-12-14T15:48:19.269410",
     "exception": false,
     "start_time": "2023-12-14T15:48:19.220455",
     "status": "completed"
    },
    "tags": []
   },
   "outputs": [
    {
     "data": {
      "text/plain": [
       "Ind_ID               0\n",
       "GENDER               7\n",
       "Car_Owner            0\n",
       "Propert_Owner        0\n",
       "CHILDREN             0\n",
       "Annual_income       23\n",
       "Type_Income          0\n",
       "EDUCATION            0\n",
       "Marital_status       0\n",
       "Housing_type         0\n",
       "Birthday_count      22\n",
       "Employed_days        0\n",
       "Mobile_phone         0\n",
       "Work_Phone           0\n",
       "Phone                0\n",
       "EMAIL_ID             0\n",
       "Type_Occupation    488\n",
       "Family_Members       0\n",
       "dtype: int64"
      ]
     },
     "execution_count": 43,
     "metadata": {},
     "output_type": "execute_result"
    }
   ],
   "source": [
    "df11.isnull().sum()"
   ]
  },
  {
   "cell_type": "code",
   "execution_count": 44,
   "id": "d146ce32",
   "metadata": {
    "execution": {
     "iopub.execute_input": "2023-12-14T15:48:19.343201Z",
     "iopub.status.busy": "2023-12-14T15:48:19.342352Z",
     "iopub.status.idle": "2023-12-14T15:48:19.352903Z",
     "shell.execute_reply": "2023-12-14T15:48:19.352079Z"
    },
    "papermill": {
     "duration": 0.04988,
     "end_time": "2023-12-14T15:48:19.355166",
     "exception": false,
     "start_time": "2023-12-14T15:48:19.305286",
     "status": "completed"
    },
    "tags": []
   },
   "outputs": [],
   "source": [
    "df11 = df11.drop_duplicates('Ind_ID', keep='last') # lastly, droping the duplicate values of persons IDs\n",
    "df11['Age']=-(df11['Birthday_count'])//365 # converting birthday_count to proper format of age\n",
    "\n",
    "# droping unnecessary columns and rows\n",
    "df11 = df11.dropna(subset=['Annual_income', 'GENDER', 'Birthday_count','Type_Occupation'], axis=0)\n",
    "df11 = df11.drop(['Mobile_phone','Work_Phone','Phone','EMAIL_ID','Type_Occupation','Birthday_count'],axis=1)"
   ]
  },
  {
   "cell_type": "code",
   "execution_count": 45,
   "id": "89c9fda7",
   "metadata": {
    "execution": {
     "iopub.execute_input": "2023-12-14T15:48:19.428879Z",
     "iopub.status.busy": "2023-12-14T15:48:19.428274Z",
     "iopub.status.idle": "2023-12-14T15:48:19.436960Z",
     "shell.execute_reply": "2023-12-14T15:48:19.436154Z"
    },
    "papermill": {
     "duration": 0.048239,
     "end_time": "2023-12-14T15:48:19.438968",
     "exception": false,
     "start_time": "2023-12-14T15:48:19.390729",
     "status": "completed"
    },
    "tags": []
   },
   "outputs": [
    {
     "data": {
      "text/plain": [
       "Ind_ID            0\n",
       "GENDER            0\n",
       "Car_Owner         0\n",
       "Propert_Owner     0\n",
       "CHILDREN          0\n",
       "Annual_income     0\n",
       "Type_Income       0\n",
       "EDUCATION         0\n",
       "Marital_status    0\n",
       "Housing_type      0\n",
       "Employed_days     0\n",
       "Family_Members    0\n",
       "Age               0\n",
       "dtype: int64"
      ]
     },
     "execution_count": 45,
     "metadata": {},
     "output_type": "execute_result"
    }
   ],
   "source": [
    "df11.isnull().sum()"
   ]
  },
  {
   "cell_type": "code",
   "execution_count": 46,
   "id": "7f1ad589",
   "metadata": {
    "execution": {
     "iopub.execute_input": "2023-12-14T15:48:19.511684Z",
     "iopub.status.busy": "2023-12-14T15:48:19.511013Z",
     "iopub.status.idle": "2023-12-14T15:48:19.517262Z",
     "shell.execute_reply": "2023-12-14T15:48:19.516534Z"
    },
    "papermill": {
     "duration": 0.044987,
     "end_time": "2023-12-14T15:48:19.519299",
     "exception": false,
     "start_time": "2023-12-14T15:48:19.474312",
     "status": "completed"
    },
    "tags": []
   },
   "outputs": [
    {
     "data": {
      "text/plain": [
       "array(['Secondary / secondary special', 'Higher education',\n",
       "       'Lower secondary', 'Incomplete higher'], dtype=object)"
      ]
     },
     "execution_count": 46,
     "metadata": {},
     "output_type": "execute_result"
    }
   ],
   "source": [
    "df11['EDUCATION'].unique()"
   ]
  },
  {
   "cell_type": "code",
   "execution_count": 47,
   "id": "c1506cbe",
   "metadata": {
    "execution": {
     "iopub.execute_input": "2023-12-14T15:48:19.593641Z",
     "iopub.status.busy": "2023-12-14T15:48:19.592921Z",
     "iopub.status.idle": "2023-12-14T15:48:19.609644Z",
     "shell.execute_reply": "2023-12-14T15:48:19.608504Z"
    },
    "papermill": {
     "duration": 0.056425,
     "end_time": "2023-12-14T15:48:19.612152",
     "exception": false,
     "start_time": "2023-12-14T15:48:19.555727",
     "status": "completed"
    },
    "tags": []
   },
   "outputs": [
    {
     "data": {
      "text/html": [
       "<div>\n",
       "<style scoped>\n",
       "    .dataframe tbody tr th:only-of-type {\n",
       "        vertical-align: middle;\n",
       "    }\n",
       "\n",
       "    .dataframe tbody tr th {\n",
       "        vertical-align: top;\n",
       "    }\n",
       "\n",
       "    .dataframe thead th {\n",
       "        text-align: right;\n",
       "    }\n",
       "</style>\n",
       "<table border=\"1\" class=\"dataframe\">\n",
       "  <thead>\n",
       "    <tr style=\"text-align: right;\">\n",
       "      <th></th>\n",
       "      <th>Ind_ID</th>\n",
       "      <th>GENDER</th>\n",
       "      <th>Car_Owner</th>\n",
       "      <th>Propert_Owner</th>\n",
       "      <th>CHILDREN</th>\n",
       "      <th>Annual_income</th>\n",
       "      <th>Type_Income</th>\n",
       "      <th>EDUCATION</th>\n",
       "      <th>Marital_status</th>\n",
       "      <th>Housing_type</th>\n",
       "      <th>Employed_days</th>\n",
       "      <th>Family_Members</th>\n",
       "      <th>Age</th>\n",
       "    </tr>\n",
       "  </thead>\n",
       "  <tbody>\n",
       "    <tr>\n",
       "      <th>8</th>\n",
       "      <td>5010864</td>\n",
       "      <td>M</td>\n",
       "      <td>Y</td>\n",
       "      <td>Y</td>\n",
       "      <td>1</td>\n",
       "      <td>450000.0</td>\n",
       "      <td>Commercial associate</td>\n",
       "      <td>Secondary / secondary special</td>\n",
       "      <td>Married</td>\n",
       "      <td>House / apartment</td>\n",
       "      <td>-678</td>\n",
       "      <td>3</td>\n",
       "      <td>49.0</td>\n",
       "    </tr>\n",
       "  </tbody>\n",
       "</table>\n",
       "</div>"
      ],
      "text/plain": [
       "    Ind_ID GENDER Car_Owner Propert_Owner  CHILDREN  Annual_income  \\\n",
       "8  5010864      M         Y             Y         1       450000.0   \n",
       "\n",
       "            Type_Income                      EDUCATION Marital_status  \\\n",
       "8  Commercial associate  Secondary / secondary special        Married   \n",
       "\n",
       "        Housing_type  Employed_days  Family_Members   Age  \n",
       "8  House / apartment           -678               3  49.0  "
      ]
     },
     "execution_count": 47,
     "metadata": {},
     "output_type": "execute_result"
    }
   ],
   "source": [
    "df11[df11['Ind_ID'] == 5010864]"
   ]
  },
  {
   "cell_type": "code",
   "execution_count": 48,
   "id": "6577c790",
   "metadata": {
    "execution": {
     "iopub.execute_input": "2023-12-14T15:48:19.688135Z",
     "iopub.status.busy": "2023-12-14T15:48:19.687197Z",
     "iopub.status.idle": "2023-12-14T15:48:19.705543Z",
     "shell.execute_reply": "2023-12-14T15:48:19.704470Z"
    },
    "papermill": {
     "duration": 0.059103,
     "end_time": "2023-12-14T15:48:19.707977",
     "exception": false,
     "start_time": "2023-12-14T15:48:19.648874",
     "status": "completed"
    },
    "tags": []
   },
   "outputs": [
    {
     "data": {
      "text/html": [
       "<div>\n",
       "<style scoped>\n",
       "    .dataframe tbody tr th:only-of-type {\n",
       "        vertical-align: middle;\n",
       "    }\n",
       "\n",
       "    .dataframe tbody tr th {\n",
       "        vertical-align: top;\n",
       "    }\n",
       "\n",
       "    .dataframe thead th {\n",
       "        text-align: right;\n",
       "    }\n",
       "</style>\n",
       "<table border=\"1\" class=\"dataframe\">\n",
       "  <thead>\n",
       "    <tr style=\"text-align: right;\">\n",
       "      <th></th>\n",
       "      <th>Ind_ID</th>\n",
       "      <th>GENDER</th>\n",
       "      <th>Car_Owner</th>\n",
       "      <th>Propert_Owner</th>\n",
       "      <th>CHILDREN</th>\n",
       "      <th>Annual_income</th>\n",
       "      <th>Type_Income</th>\n",
       "      <th>EDUCATION</th>\n",
       "      <th>Marital_status</th>\n",
       "      <th>Housing_type</th>\n",
       "      <th>Employed_days</th>\n",
       "      <th>Family_Members</th>\n",
       "      <th>Age</th>\n",
       "    </tr>\n",
       "  </thead>\n",
       "  <tbody>\n",
       "    <tr>\n",
       "      <th>8</th>\n",
       "      <td>5010864</td>\n",
       "      <td>M</td>\n",
       "      <td>Y</td>\n",
       "      <td>Y</td>\n",
       "      <td>1</td>\n",
       "      <td>450000.0</td>\n",
       "      <td>Commercial associate</td>\n",
       "      <td>Secondary / secondary special</td>\n",
       "      <td>Married</td>\n",
       "      <td>House / apartment</td>\n",
       "      <td>-678</td>\n",
       "      <td>3</td>\n",
       "      <td>49.0</td>\n",
       "    </tr>\n",
       "    <tr>\n",
       "      <th>9</th>\n",
       "      <td>5010868</td>\n",
       "      <td>M</td>\n",
       "      <td>Y</td>\n",
       "      <td>Y</td>\n",
       "      <td>1</td>\n",
       "      <td>450000.0</td>\n",
       "      <td>Pensioner</td>\n",
       "      <td>Secondary / secondary special</td>\n",
       "      <td>Married</td>\n",
       "      <td>House / apartment</td>\n",
       "      <td>-678</td>\n",
       "      <td>3</td>\n",
       "      <td>49.0</td>\n",
       "    </tr>\n",
       "    <tr>\n",
       "      <th>10</th>\n",
       "      <td>5010869</td>\n",
       "      <td>M</td>\n",
       "      <td>Y</td>\n",
       "      <td>Y</td>\n",
       "      <td>1</td>\n",
       "      <td>450000.0</td>\n",
       "      <td>Commercial associate</td>\n",
       "      <td>Secondary / secondary special</td>\n",
       "      <td>Single / not married</td>\n",
       "      <td>House / apartment</td>\n",
       "      <td>-678</td>\n",
       "      <td>1</td>\n",
       "      <td>49.0</td>\n",
       "    </tr>\n",
       "    <tr>\n",
       "      <th>11</th>\n",
       "      <td>5018498</td>\n",
       "      <td>F</td>\n",
       "      <td>Y</td>\n",
       "      <td>Y</td>\n",
       "      <td>0</td>\n",
       "      <td>90000.0</td>\n",
       "      <td>Working</td>\n",
       "      <td>Secondary / secondary special</td>\n",
       "      <td>Married</td>\n",
       "      <td>House / apartment</td>\n",
       "      <td>-1002</td>\n",
       "      <td>2</td>\n",
       "      <td>51.0</td>\n",
       "    </tr>\n",
       "    <tr>\n",
       "      <th>13</th>\n",
       "      <td>5018503</td>\n",
       "      <td>F</td>\n",
       "      <td>Y</td>\n",
       "      <td>Y</td>\n",
       "      <td>0</td>\n",
       "      <td>90000.0</td>\n",
       "      <td>Working</td>\n",
       "      <td>Secondary / secondary special</td>\n",
       "      <td>Married</td>\n",
       "      <td>House / apartment</td>\n",
       "      <td>-1002</td>\n",
       "      <td>2</td>\n",
       "      <td>51.0</td>\n",
       "    </tr>\n",
       "  </tbody>\n",
       "</table>\n",
       "</div>"
      ],
      "text/plain": [
       "     Ind_ID GENDER Car_Owner Propert_Owner  CHILDREN  Annual_income  \\\n",
       "8   5010864      M         Y             Y         1       450000.0   \n",
       "9   5010868      M         Y             Y         1       450000.0   \n",
       "10  5010869      M         Y             Y         1       450000.0   \n",
       "11  5018498      F         Y             Y         0        90000.0   \n",
       "13  5018503      F         Y             Y         0        90000.0   \n",
       "\n",
       "             Type_Income                      EDUCATION        Marital_status  \\\n",
       "8   Commercial associate  Secondary / secondary special               Married   \n",
       "9              Pensioner  Secondary / secondary special               Married   \n",
       "10  Commercial associate  Secondary / secondary special  Single / not married   \n",
       "11               Working  Secondary / secondary special               Married   \n",
       "13               Working  Secondary / secondary special               Married   \n",
       "\n",
       "         Housing_type  Employed_days  Family_Members   Age  \n",
       "8   House / apartment           -678               3  49.0  \n",
       "9   House / apartment           -678               3  49.0  \n",
       "10  House / apartment           -678               1  49.0  \n",
       "11  House / apartment          -1002               2  51.0  \n",
       "13  House / apartment          -1002               2  51.0  "
      ]
     },
     "execution_count": 48,
     "metadata": {},
     "output_type": "execute_result"
    }
   ],
   "source": [
    "df11.head()"
   ]
  },
  {
   "cell_type": "markdown",
   "id": "ab92b282",
   "metadata": {
    "papermill": {
     "duration": 0.036359,
     "end_time": "2023-12-14T15:48:19.780931",
     "exception": false,
     "start_time": "2023-12-14T15:48:19.744572",
     "status": "completed"
    },
    "tags": []
   },
   "source": [
    "Train a machine learning model to predict credit scores "
   ]
  },
  {
   "cell_type": "code",
   "execution_count": 49,
   "id": "75b4c5cb",
   "metadata": {
    "execution": {
     "iopub.execute_input": "2023-12-14T15:48:19.855012Z",
     "iopub.status.busy": "2023-12-14T15:48:19.854374Z",
     "iopub.status.idle": "2023-12-14T15:48:20.110345Z",
     "shell.execute_reply": "2023-12-14T15:48:20.109518Z"
    },
    "papermill": {
     "duration": 0.295592,
     "end_time": "2023-12-14T15:48:20.112664",
     "exception": false,
     "start_time": "2023-12-14T15:48:19.817072",
     "status": "completed"
    },
    "tags": []
   },
   "outputs": [
    {
     "name": "stdout",
     "output_type": "stream",
     "text": [
      "Accuracy: 0.9558823529411765\n"
     ]
    }
   ],
   "source": [
    "# Train the Random Forest model\n",
    "model = RandomForestClassifier(random_state=42)\n",
    "model.fit(X_train, y_train)\n",
    "\n",
    "# Make predictions\n",
    "y_pred_prob = model.predict_proba(X_test)[:, 1]\n",
    "\n",
    "# Choose a threshold to classify into \"bad\" or \"good\" based on the predicted probabilities\n",
    "threshold = 0.5\n",
    "y_pred = (y_pred_prob > threshold).astype(int)\n",
    "\n",
    "# Evaluate the model\n",
    "accuracy = accuracy_score(y_test, y_pred)\n",
    "\n",
    "# Print the results\n",
    "print(f\"Accuracy: {accuracy}\")\n",
    "\n",
    "# Add predicted scores to the merged_data dataframe\n",
    "merged_data['Predicted_Score'] = model.predict_proba(X)[:, 1]\n",
    "\n",
    "# Classify into \"bad\" or \"good\" based on the threshold\n",
    "merged_data['Credit_Score'] = (merged_data['Predicted_Score'] > threshold).astype(int)"
   ]
  },
  {
   "cell_type": "markdown",
   "id": "a852177d",
   "metadata": {
    "papermill": {
     "duration": 0.036366,
     "end_time": "2023-12-14T15:48:20.186267",
     "exception": false,
     "start_time": "2023-12-14T15:48:20.149901",
     "status": "completed"
    },
    "tags": []
   },
   "source": [
    "Credit_Score = 0: Typically represents a predicted class of \"good credit\" or a situation where the model predicts that the applicant is less likely to default.\n",
    "\n",
    "Credit_Score = 1: Typically represents a predicted class of \"bad credit\" or a situation where the model predicts a higher likelihood of default."
   ]
  },
  {
   "cell_type": "code",
   "execution_count": 50,
   "id": "c46268e7",
   "metadata": {
    "execution": {
     "iopub.execute_input": "2023-12-14T15:48:20.262396Z",
     "iopub.status.busy": "2023-12-14T15:48:20.261650Z",
     "iopub.status.idle": "2023-12-14T15:48:20.279895Z",
     "shell.execute_reply": "2023-12-14T15:48:20.278792Z"
    },
    "papermill": {
     "duration": 0.059194,
     "end_time": "2023-12-14T15:48:20.282512",
     "exception": false,
     "start_time": "2023-12-14T15:48:20.223318",
     "status": "completed"
    },
    "tags": []
   },
   "outputs": [
    {
     "data": {
      "text/html": [
       "<div>\n",
       "<style scoped>\n",
       "    .dataframe tbody tr th:only-of-type {\n",
       "        vertical-align: middle;\n",
       "    }\n",
       "\n",
       "    .dataframe tbody tr th {\n",
       "        vertical-align: top;\n",
       "    }\n",
       "\n",
       "    .dataframe thead th {\n",
       "        text-align: right;\n",
       "    }\n",
       "</style>\n",
       "<table border=\"1\" class=\"dataframe\">\n",
       "  <thead>\n",
       "    <tr style=\"text-align: right;\">\n",
       "      <th></th>\n",
       "      <th>Ind_ID</th>\n",
       "      <th>GENDER</th>\n",
       "      <th>Car_Owner</th>\n",
       "      <th>Propert_Owner</th>\n",
       "      <th>CHILDREN</th>\n",
       "      <th>Annual_income</th>\n",
       "      <th>Type_Income</th>\n",
       "      <th>EDUCATION</th>\n",
       "      <th>Marital_status</th>\n",
       "      <th>Housing_type</th>\n",
       "      <th>Family_Members</th>\n",
       "      <th>Age</th>\n",
       "      <th>Employment_Status</th>\n",
       "      <th>label</th>\n",
       "      <th>Predicted_Score</th>\n",
       "      <th>Credit_Score</th>\n",
       "    </tr>\n",
       "  </thead>\n",
       "  <tbody>\n",
       "    <tr>\n",
       "      <th>0</th>\n",
       "      <td>5010864</td>\n",
       "      <td>1</td>\n",
       "      <td>1</td>\n",
       "      <td>1</td>\n",
       "      <td>1</td>\n",
       "      <td>5.667662</td>\n",
       "      <td>0</td>\n",
       "      <td>3</td>\n",
       "      <td>1</td>\n",
       "      <td>1</td>\n",
       "      <td>3</td>\n",
       "      <td>49.0</td>\n",
       "      <td>1</td>\n",
       "      <td>1</td>\n",
       "      <td>0.74</td>\n",
       "      <td>1</td>\n",
       "    </tr>\n",
       "    <tr>\n",
       "      <th>1</th>\n",
       "      <td>5010868</td>\n",
       "      <td>1</td>\n",
       "      <td>1</td>\n",
       "      <td>1</td>\n",
       "      <td>1</td>\n",
       "      <td>5.667662</td>\n",
       "      <td>1</td>\n",
       "      <td>3</td>\n",
       "      <td>1</td>\n",
       "      <td>1</td>\n",
       "      <td>3</td>\n",
       "      <td>49.0</td>\n",
       "      <td>1</td>\n",
       "      <td>1</td>\n",
       "      <td>0.76</td>\n",
       "      <td>1</td>\n",
       "    </tr>\n",
       "    <tr>\n",
       "      <th>2</th>\n",
       "      <td>5023831</td>\n",
       "      <td>0</td>\n",
       "      <td>0</td>\n",
       "      <td>1</td>\n",
       "      <td>2</td>\n",
       "      <td>5.454465</td>\n",
       "      <td>0</td>\n",
       "      <td>3</td>\n",
       "      <td>1</td>\n",
       "      <td>1</td>\n",
       "      <td>4</td>\n",
       "      <td>33.0</td>\n",
       "      <td>1</td>\n",
       "      <td>1</td>\n",
       "      <td>0.65</td>\n",
       "      <td>1</td>\n",
       "    </tr>\n",
       "    <tr>\n",
       "      <th>3</th>\n",
       "      <td>5033514</td>\n",
       "      <td>0</td>\n",
       "      <td>1</td>\n",
       "      <td>0</td>\n",
       "      <td>1</td>\n",
       "      <td>5.485136</td>\n",
       "      <td>3</td>\n",
       "      <td>3</td>\n",
       "      <td>1</td>\n",
       "      <td>1</td>\n",
       "      <td>3</td>\n",
       "      <td>43.0</td>\n",
       "      <td>1</td>\n",
       "      <td>1</td>\n",
       "      <td>0.02</td>\n",
       "      <td>0</td>\n",
       "    </tr>\n",
       "    <tr>\n",
       "      <th>4</th>\n",
       "      <td>5046324</td>\n",
       "      <td>0</td>\n",
       "      <td>0</td>\n",
       "      <td>1</td>\n",
       "      <td>1</td>\n",
       "      <td>5.510413</td>\n",
       "      <td>0</td>\n",
       "      <td>3</td>\n",
       "      <td>3</td>\n",
       "      <td>1</td>\n",
       "      <td>3</td>\n",
       "      <td>42.0</td>\n",
       "      <td>1</td>\n",
       "      <td>1</td>\n",
       "      <td>0.68</td>\n",
       "      <td>1</td>\n",
       "    </tr>\n",
       "  </tbody>\n",
       "</table>\n",
       "</div>"
      ],
      "text/plain": [
       "    Ind_ID  GENDER  Car_Owner  Propert_Owner  CHILDREN  Annual_income  \\\n",
       "0  5010864       1          1              1         1       5.667662   \n",
       "1  5010868       1          1              1         1       5.667662   \n",
       "2  5023831       0          0              1         2       5.454465   \n",
       "3  5033514       0          1              0         1       5.485136   \n",
       "4  5046324       0          0              1         1       5.510413   \n",
       "\n",
       "   Type_Income  EDUCATION  Marital_status  Housing_type  Family_Members   Age  \\\n",
       "0            0          3               1             1               3  49.0   \n",
       "1            1          3               1             1               3  49.0   \n",
       "2            0          3               1             1               4  33.0   \n",
       "3            3          3               1             1               3  43.0   \n",
       "4            0          3               3             1               3  42.0   \n",
       "\n",
       "   Employment_Status  label  Predicted_Score  Credit_Score  \n",
       "0                  1      1             0.74             1  \n",
       "1                  1      1             0.76             1  \n",
       "2                  1      1             0.65             1  \n",
       "3                  1      1             0.02             0  \n",
       "4                  1      1             0.68             1  "
      ]
     },
     "execution_count": 50,
     "metadata": {},
     "output_type": "execute_result"
    }
   ],
   "source": [
    "merged_data.head()"
   ]
  },
  {
   "cell_type": "code",
   "execution_count": 51,
   "id": "833bc37a",
   "metadata": {
    "execution": {
     "iopub.execute_input": "2023-12-14T15:48:20.358952Z",
     "iopub.status.busy": "2023-12-14T15:48:20.358533Z",
     "iopub.status.idle": "2023-12-14T15:48:20.369932Z",
     "shell.execute_reply": "2023-12-14T15:48:20.368996Z"
    },
    "papermill": {
     "duration": 0.052695,
     "end_time": "2023-12-14T15:48:20.372583",
     "exception": false,
     "start_time": "2023-12-14T15:48:20.319888",
     "status": "completed"
    },
    "tags": []
   },
   "outputs": [],
   "source": [
    "merged_data.to_csv(\"cleaned.csv\")\n",
    "# download this csv and import in mysql bench and can run below queries "
   ]
  },
  {
   "cell_type": "markdown",
   "id": "3117eafe",
   "metadata": {
    "papermill": {
     "duration": 0.037926,
     "end_time": "2023-12-14T15:48:20.447806",
     "exception": false,
     "start_time": "2023-12-14T15:48:20.409880",
     "status": "completed"
    },
    "tags": []
   },
   "source": [
    "Another Way"
   ]
  },
  {
   "cell_type": "code",
   "execution_count": 52,
   "id": "b3eb24c5",
   "metadata": {
    "execution": {
     "iopub.execute_input": "2023-12-14T15:48:20.523932Z",
     "iopub.status.busy": "2023-12-14T15:48:20.523456Z",
     "iopub.status.idle": "2023-12-14T15:48:36.523747Z",
     "shell.execute_reply": "2023-12-14T15:48:36.521971Z"
    },
    "papermill": {
     "duration": 16.04122,
     "end_time": "2023-12-14T15:48:36.526323",
     "exception": false,
     "start_time": "2023-12-14T15:48:20.485103",
     "status": "completed"
    },
    "tags": []
   },
   "outputs": [
    {
     "name": "stdout",
     "output_type": "stream",
     "text": [
      "Collecting duckdb\r\n",
      "  Obtaining dependency information for duckdb from https://files.pythonhosted.org/packages/7c/d5/7688cdc1b57c9ada17b6f6143a923606294b462e4b15e3ac249c04649bde/duckdb-0.9.2-cp310-cp310-manylinux_2_17_x86_64.manylinux2014_x86_64.whl.metadata\r\n",
      "  Downloading duckdb-0.9.2-cp310-cp310-manylinux_2_17_x86_64.manylinux2014_x86_64.whl.metadata (760 bytes)\r\n",
      "Downloading duckdb-0.9.2-cp310-cp310-manylinux_2_17_x86_64.manylinux2014_x86_64.whl (16.5 MB)\r\n",
      "\u001b[2K   \u001b[90m━━━━━━━━━━━━━━━━━━━━━━━━━━━━━━━━━━━━━━━━\u001b[0m \u001b[32m16.5/16.5 MB\u001b[0m \u001b[31m51.8 MB/s\u001b[0m eta \u001b[36m0:00:00\u001b[0m\r\n",
      "\u001b[?25hInstalling collected packages: duckdb\r\n",
      "Successfully installed duckdb-0.9.2\r\n",
      "Note: you may need to restart the kernel to use updated packages.\n"
     ]
    }
   ],
   "source": [
    "pip install duckdb"
   ]
  },
  {
   "cell_type": "code",
   "execution_count": 53,
   "id": "abd29b50",
   "metadata": {
    "execution": {
     "iopub.execute_input": "2023-12-14T15:48:36.610092Z",
     "iopub.status.busy": "2023-12-14T15:48:36.609248Z",
     "iopub.status.idle": "2023-12-14T15:48:36.652489Z",
     "shell.execute_reply": "2023-12-14T15:48:36.651503Z"
    },
    "papermill": {
     "duration": 0.087377,
     "end_time": "2023-12-14T15:48:36.655008",
     "exception": false,
     "start_time": "2023-12-14T15:48:36.567631",
     "status": "completed"
    },
    "tags": []
   },
   "outputs": [],
   "source": [
    "import duckdb"
   ]
  },
  {
   "cell_type": "code",
   "execution_count": 54,
   "id": "52d7534b",
   "metadata": {
    "execution": {
     "iopub.execute_input": "2023-12-14T15:48:36.736505Z",
     "iopub.status.busy": "2023-12-14T15:48:36.735526Z",
     "iopub.status.idle": "2023-12-14T15:48:36.764147Z",
     "shell.execute_reply": "2023-12-14T15:48:36.763029Z"
    },
    "papermill": {
     "duration": 0.072083,
     "end_time": "2023-12-14T15:48:36.766519",
     "exception": false,
     "start_time": "2023-12-14T15:48:36.694436",
     "status": "completed"
    },
    "tags": []
   },
   "outputs": [
    {
     "data": {
      "text/html": [
       "<div>\n",
       "<style scoped>\n",
       "    .dataframe tbody tr th:only-of-type {\n",
       "        vertical-align: middle;\n",
       "    }\n",
       "\n",
       "    .dataframe tbody tr th {\n",
       "        vertical-align: top;\n",
       "    }\n",
       "\n",
       "    .dataframe thead th {\n",
       "        text-align: right;\n",
       "    }\n",
       "</style>\n",
       "<table border=\"1\" class=\"dataframe\">\n",
       "  <thead>\n",
       "    <tr style=\"text-align: right;\">\n",
       "      <th></th>\n",
       "      <th>Type_Income</th>\n",
       "      <th>Avg_Annual_Income</th>\n",
       "    </tr>\n",
       "  </thead>\n",
       "  <tbody>\n",
       "    <tr>\n",
       "      <th>0</th>\n",
       "      <td>0</td>\n",
       "      <td>5.547250</td>\n",
       "    </tr>\n",
       "    <tr>\n",
       "      <th>1</th>\n",
       "      <td>2</td>\n",
       "      <td>5.541198</td>\n",
       "    </tr>\n",
       "    <tr>\n",
       "      <th>2</th>\n",
       "      <td>1</td>\n",
       "      <td>5.589037</td>\n",
       "    </tr>\n",
       "    <tr>\n",
       "      <th>3</th>\n",
       "      <td>3</td>\n",
       "      <td>5.515929</td>\n",
       "    </tr>\n",
       "  </tbody>\n",
       "</table>\n",
       "</div>"
      ],
      "text/plain": [
       "   Type_Income  Avg_Annual_Income\n",
       "0            0           5.547250\n",
       "1            2           5.541198\n",
       "2            1           5.589037\n",
       "3            3           5.515929"
      ]
     },
     "execution_count": 54,
     "metadata": {},
     "output_type": "execute_result"
    }
   ],
   "source": [
    "conn = duckdb.connect()\n",
    "conn.register('Credit_Card',merged_data)\n",
    "# Group the customers based on their income type and find the average of their annual income.\n",
    "conn.execute(\"SELECT Type_Income, AVG(Annual_income) AS Avg_Annual_Income FROM Credit_Card GROUP BY Type_Income\").fetchdf()"
   ]
  },
  {
   "cell_type": "code",
   "execution_count": 55,
   "id": "28005208",
   "metadata": {
    "execution": {
     "iopub.execute_input": "2023-12-14T15:48:36.848190Z",
     "iopub.status.busy": "2023-12-14T15:48:36.847693Z",
     "iopub.status.idle": "2023-12-14T15:48:36.862433Z",
     "shell.execute_reply": "2023-12-14T15:48:36.861297Z"
    },
    "papermill": {
     "duration": 0.058219,
     "end_time": "2023-12-14T15:48:36.864702",
     "exception": false,
     "start_time": "2023-12-14T15:48:36.806483",
     "status": "completed"
    },
    "tags": []
   },
   "outputs": [
    {
     "data": {
      "text/html": [
       "<div>\n",
       "<style scoped>\n",
       "    .dataframe tbody tr th:only-of-type {\n",
       "        vertical-align: middle;\n",
       "    }\n",
       "\n",
       "    .dataframe tbody tr th {\n",
       "        vertical-align: top;\n",
       "    }\n",
       "\n",
       "    .dataframe thead th {\n",
       "        text-align: right;\n",
       "    }\n",
       "</style>\n",
       "<table border=\"1\" class=\"dataframe\">\n",
       "  <thead>\n",
       "    <tr style=\"text-align: right;\">\n",
       "      <th></th>\n",
       "      <th>Ind_ID</th>\n",
       "      <th>GENDER</th>\n",
       "      <th>Car_Owner</th>\n",
       "      <th>Propert_Owner</th>\n",
       "      <th>CHILDREN</th>\n",
       "      <th>Annual_income</th>\n",
       "      <th>Type_Income</th>\n",
       "      <th>EDUCATION</th>\n",
       "      <th>Marital_status</th>\n",
       "      <th>Housing_type</th>\n",
       "      <th>Family_Members</th>\n",
       "      <th>Age</th>\n",
       "      <th>Employment_Status</th>\n",
       "      <th>label</th>\n",
       "      <th>Predicted_Score</th>\n",
       "      <th>Credit_Score</th>\n",
       "    </tr>\n",
       "  </thead>\n",
       "  <tbody>\n",
       "  </tbody>\n",
       "</table>\n",
       "</div>"
      ],
      "text/plain": [
       "Empty DataFrame\n",
       "Columns: [Ind_ID, GENDER, Car_Owner, Propert_Owner, CHILDREN, Annual_income, Type_Income, EDUCATION, Marital_status, Housing_type, Family_Members, Age, Employment_Status, label, Predicted_Score, Credit_Score]\n",
       "Index: []"
      ]
     },
     "execution_count": 55,
     "metadata": {},
     "output_type": "execute_result"
    }
   ],
   "source": [
    "# Find the female owners of cars and property.\n",
    "\n",
    "conn.execute(\"SELECT * FROM Credit_Card WHERE Gender = 'F' AND Car_Owner = 'Y' AND Propert_Owner = 'Y'\").fetchdf()"
   ]
  },
  {
   "cell_type": "code",
   "execution_count": 56,
   "id": "b4fe7375",
   "metadata": {
    "execution": {
     "iopub.execute_input": "2023-12-14T15:48:36.946694Z",
     "iopub.status.busy": "2023-12-14T15:48:36.945856Z",
     "iopub.status.idle": "2023-12-14T15:48:36.961709Z",
     "shell.execute_reply": "2023-12-14T15:48:36.960796Z"
    },
    "papermill": {
     "duration": 0.05945,
     "end_time": "2023-12-14T15:48:36.964054",
     "exception": false,
     "start_time": "2023-12-14T15:48:36.904604",
     "status": "completed"
    },
    "tags": []
   },
   "outputs": [
    {
     "data": {
      "text/html": [
       "<div>\n",
       "<style scoped>\n",
       "    .dataframe tbody tr th:only-of-type {\n",
       "        vertical-align: middle;\n",
       "    }\n",
       "\n",
       "    .dataframe tbody tr th {\n",
       "        vertical-align: top;\n",
       "    }\n",
       "\n",
       "    .dataframe thead th {\n",
       "        text-align: right;\n",
       "    }\n",
       "</style>\n",
       "<table border=\"1\" class=\"dataframe\">\n",
       "  <thead>\n",
       "    <tr style=\"text-align: right;\">\n",
       "      <th></th>\n",
       "      <th>Ind_ID</th>\n",
       "      <th>GENDER</th>\n",
       "      <th>Car_Owner</th>\n",
       "      <th>Propert_Owner</th>\n",
       "      <th>CHILDREN</th>\n",
       "      <th>Annual_income</th>\n",
       "      <th>Type_Income</th>\n",
       "      <th>EDUCATION</th>\n",
       "      <th>Marital_status</th>\n",
       "      <th>Housing_type</th>\n",
       "      <th>Family_Members</th>\n",
       "      <th>Age</th>\n",
       "      <th>Employment_Status</th>\n",
       "      <th>label</th>\n",
       "      <th>Predicted_Score</th>\n",
       "      <th>Credit_Score</th>\n",
       "    </tr>\n",
       "  </thead>\n",
       "  <tbody>\n",
       "  </tbody>\n",
       "</table>\n",
       "</div>"
      ],
      "text/plain": [
       "Empty DataFrame\n",
       "Columns: [Ind_ID, GENDER, Car_Owner, Propert_Owner, CHILDREN, Annual_income, Type_Income, EDUCATION, Marital_status, Housing_type, Family_Members, Age, Employment_Status, label, Predicted_Score, Credit_Score]\n",
       "Index: []"
      ]
     },
     "execution_count": 56,
     "metadata": {},
     "output_type": "execute_result"
    }
   ],
   "source": [
    "# Find the male customers who are staying with their families\n",
    "conn.execute(\"SELECT * FROM Credit_Card WHERE Gender = 'M' AND Family_Members>0\").fetchdf()"
   ]
  },
  {
   "cell_type": "code",
   "execution_count": 57,
   "id": "860d0688",
   "metadata": {
    "execution": {
     "iopub.execute_input": "2023-12-14T15:48:37.047227Z",
     "iopub.status.busy": "2023-12-14T15:48:37.046806Z",
     "iopub.status.idle": "2023-12-14T15:48:37.068151Z",
     "shell.execute_reply": "2023-12-14T15:48:37.067071Z"
    },
    "papermill": {
     "duration": 0.065799,
     "end_time": "2023-12-14T15:48:37.070619",
     "exception": false,
     "start_time": "2023-12-14T15:48:37.004820",
     "status": "completed"
    },
    "tags": []
   },
   "outputs": [
    {
     "data": {
      "text/html": [
       "<div>\n",
       "<style scoped>\n",
       "    .dataframe tbody tr th:only-of-type {\n",
       "        vertical-align: middle;\n",
       "    }\n",
       "\n",
       "    .dataframe tbody tr th {\n",
       "        vertical-align: top;\n",
       "    }\n",
       "\n",
       "    .dataframe thead th {\n",
       "        text-align: right;\n",
       "    }\n",
       "</style>\n",
       "<table border=\"1\" class=\"dataframe\">\n",
       "  <thead>\n",
       "    <tr style=\"text-align: right;\">\n",
       "      <th></th>\n",
       "      <th>Ind_ID</th>\n",
       "      <th>GENDER</th>\n",
       "      <th>Car_Owner</th>\n",
       "      <th>Propert_Owner</th>\n",
       "      <th>CHILDREN</th>\n",
       "      <th>Annual_income</th>\n",
       "      <th>Type_Income</th>\n",
       "      <th>EDUCATION</th>\n",
       "      <th>Marital_status</th>\n",
       "      <th>Housing_type</th>\n",
       "      <th>Family_Members</th>\n",
       "      <th>Age</th>\n",
       "      <th>Employment_Status</th>\n",
       "      <th>label</th>\n",
       "      <th>Predicted_Score</th>\n",
       "      <th>Credit_Score</th>\n",
       "    </tr>\n",
       "  </thead>\n",
       "  <tbody>\n",
       "    <tr>\n",
       "      <th>0</th>\n",
       "      <td>5090470</td>\n",
       "      <td>1</td>\n",
       "      <td>0</td>\n",
       "      <td>1</td>\n",
       "      <td>1</td>\n",
       "      <td>5.758545</td>\n",
       "      <td>3</td>\n",
       "      <td>3</td>\n",
       "      <td>1</td>\n",
       "      <td>1</td>\n",
       "      <td>3</td>\n",
       "      <td>42.0</td>\n",
       "      <td>1</td>\n",
       "      <td>0</td>\n",
       "      <td>0.07</td>\n",
       "      <td>0</td>\n",
       "    </tr>\n",
       "    <tr>\n",
       "      <th>1</th>\n",
       "      <td>5079016</td>\n",
       "      <td>1</td>\n",
       "      <td>1</td>\n",
       "      <td>1</td>\n",
       "      <td>2</td>\n",
       "      <td>5.758545</td>\n",
       "      <td>0</td>\n",
       "      <td>0</td>\n",
       "      <td>1</td>\n",
       "      <td>1</td>\n",
       "      <td>4</td>\n",
       "      <td>27.0</td>\n",
       "      <td>1</td>\n",
       "      <td>0</td>\n",
       "      <td>0.01</td>\n",
       "      <td>0</td>\n",
       "    </tr>\n",
       "    <tr>\n",
       "      <th>2</th>\n",
       "      <td>5079017</td>\n",
       "      <td>1</td>\n",
       "      <td>1</td>\n",
       "      <td>1</td>\n",
       "      <td>2</td>\n",
       "      <td>5.758545</td>\n",
       "      <td>0</td>\n",
       "      <td>0</td>\n",
       "      <td>1</td>\n",
       "      <td>1</td>\n",
       "      <td>4</td>\n",
       "      <td>27.0</td>\n",
       "      <td>1</td>\n",
       "      <td>0</td>\n",
       "      <td>0.01</td>\n",
       "      <td>0</td>\n",
       "    </tr>\n",
       "    <tr>\n",
       "      <th>3</th>\n",
       "      <td>5116005</td>\n",
       "      <td>1</td>\n",
       "      <td>1</td>\n",
       "      <td>1</td>\n",
       "      <td>1</td>\n",
       "      <td>5.758545</td>\n",
       "      <td>0</td>\n",
       "      <td>0</td>\n",
       "      <td>0</td>\n",
       "      <td>1</td>\n",
       "      <td>3</td>\n",
       "      <td>46.0</td>\n",
       "      <td>1</td>\n",
       "      <td>0</td>\n",
       "      <td>0.06</td>\n",
       "      <td>0</td>\n",
       "    </tr>\n",
       "    <tr>\n",
       "      <th>4</th>\n",
       "      <td>5148669</td>\n",
       "      <td>1</td>\n",
       "      <td>1</td>\n",
       "      <td>1</td>\n",
       "      <td>1</td>\n",
       "      <td>5.745341</td>\n",
       "      <td>0</td>\n",
       "      <td>1</td>\n",
       "      <td>0</td>\n",
       "      <td>3</td>\n",
       "      <td>3</td>\n",
       "      <td>49.0</td>\n",
       "      <td>1</td>\n",
       "      <td>0</td>\n",
       "      <td>0.18</td>\n",
       "      <td>0</td>\n",
       "    </tr>\n",
       "  </tbody>\n",
       "</table>\n",
       "</div>"
      ],
      "text/plain": [
       "    Ind_ID  GENDER  Car_Owner  Propert_Owner  CHILDREN  Annual_income  \\\n",
       "0  5090470       1          0              1         1       5.758545   \n",
       "1  5079016       1          1              1         2       5.758545   \n",
       "2  5079017       1          1              1         2       5.758545   \n",
       "3  5116005       1          1              1         1       5.758545   \n",
       "4  5148669       1          1              1         1       5.745341   \n",
       "\n",
       "   Type_Income  EDUCATION  Marital_status  Housing_type  Family_Members   Age  \\\n",
       "0            3          3               1             1               3  42.0   \n",
       "1            0          0               1             1               4  27.0   \n",
       "2            0          0               1             1               4  27.0   \n",
       "3            0          0               0             1               3  46.0   \n",
       "4            0          1               0             3               3  49.0   \n",
       "\n",
       "   Employment_Status  label  Predicted_Score  Credit_Score  \n",
       "0                  1      0             0.07             0  \n",
       "1                  1      0             0.01             0  \n",
       "2                  1      0             0.01             0  \n",
       "3                  1      0             0.06             0  \n",
       "4                  1      0             0.18             0  "
      ]
     },
     "execution_count": 57,
     "metadata": {},
     "output_type": "execute_result"
    }
   ],
   "source": [
    "# Please list the top five people having the highest income\n",
    "\n",
    "conn.execute(\"SELECT * FROM Credit_Card ORDER BY Annual_income DESC LIMIT 5\").fetchdf()"
   ]
  },
  {
   "cell_type": "code",
   "execution_count": 58,
   "id": "ea3ac257",
   "metadata": {
    "execution": {
     "iopub.execute_input": "2023-12-14T15:48:37.155014Z",
     "iopub.status.busy": "2023-12-14T15:48:37.154573Z",
     "iopub.status.idle": "2023-12-14T15:48:37.169386Z",
     "shell.execute_reply": "2023-12-14T15:48:37.168277Z"
    },
    "papermill": {
     "duration": 0.059698,
     "end_time": "2023-12-14T15:48:37.171694",
     "exception": false,
     "start_time": "2023-12-14T15:48:37.111996",
     "status": "completed"
    },
    "tags": []
   },
   "outputs": [
    {
     "data": {
      "text/html": [
       "<div>\n",
       "<style scoped>\n",
       "    .dataframe tbody tr th:only-of-type {\n",
       "        vertical-align: middle;\n",
       "    }\n",
       "\n",
       "    .dataframe tbody tr th {\n",
       "        vertical-align: top;\n",
       "    }\n",
       "\n",
       "    .dataframe thead th {\n",
       "        text-align: right;\n",
       "    }\n",
       "</style>\n",
       "<table border=\"1\" class=\"dataframe\">\n",
       "  <thead>\n",
       "    <tr style=\"text-align: right;\">\n",
       "      <th></th>\n",
       "      <th>EDUCATION</th>\n",
       "      <th>Total_Count</th>\n",
       "    </tr>\n",
       "  </thead>\n",
       "  <tbody>\n",
       "    <tr>\n",
       "      <th>0</th>\n",
       "      <td>3</td>\n",
       "      <td>209</td>\n",
       "    </tr>\n",
       "  </tbody>\n",
       "</table>\n",
       "</div>"
      ],
      "text/plain": [
       "   EDUCATION  Total_Count\n",
       "0          3          209"
      ]
     },
     "execution_count": 58,
     "metadata": {},
     "output_type": "execute_result"
    }
   ],
   "source": [
    "# What is the highest education level and total count?\n",
    "\n",
    "conn.execute(\"SELECT Education, COUNT(*) AS Total_Count FROM Credit_Card GROUP BY Education ORDER BY Total_Count DESC LIMIT 1\").fetchdf()"
   ]
  },
  {
   "cell_type": "code",
   "execution_count": 59,
   "id": "f3d014d2",
   "metadata": {
    "execution": {
     "iopub.execute_input": "2023-12-14T15:48:37.256402Z",
     "iopub.status.busy": "2023-12-14T15:48:37.256001Z",
     "iopub.status.idle": "2023-12-14T15:48:37.267117Z",
     "shell.execute_reply": "2023-12-14T15:48:37.266175Z"
    },
    "papermill": {
     "duration": 0.055989,
     "end_time": "2023-12-14T15:48:37.269131",
     "exception": false,
     "start_time": "2023-12-14T15:48:37.213142",
     "status": "completed"
    },
    "tags": []
   },
   "outputs": [
    {
     "data": {
      "text/html": [
       "<div>\n",
       "<style scoped>\n",
       "    .dataframe tbody tr th:only-of-type {\n",
       "        vertical-align: middle;\n",
       "    }\n",
       "\n",
       "    .dataframe tbody tr th {\n",
       "        vertical-align: top;\n",
       "    }\n",
       "\n",
       "    .dataframe thead th {\n",
       "        text-align: right;\n",
       "    }\n",
       "</style>\n",
       "<table border=\"1\" class=\"dataframe\">\n",
       "  <thead>\n",
       "    <tr style=\"text-align: right;\">\n",
       "      <th></th>\n",
       "      <th>Married_Bad_Credit_Count</th>\n",
       "    </tr>\n",
       "  </thead>\n",
       "  <tbody>\n",
       "    <tr>\n",
       "      <th>0</th>\n",
       "      <td>22</td>\n",
       "    </tr>\n",
       "  </tbody>\n",
       "</table>\n",
       "</div>"
      ],
      "text/plain": [
       "   Married_Bad_Credit_Count\n",
       "0                        22"
      ]
     },
     "execution_count": 59,
     "metadata": {},
     "output_type": "execute_result"
    }
   ],
   "source": [
    "# How many married people are having bad credit?\n",
    "\n",
    "conn.execute(\"SELECT COUNT(*) AS Married_Bad_Credit_Count FROM Credit_Card WHERE Marital_status = 1 AND Credit_Score = 1;\").fetchdf()"
   ]
  },
  {
   "cell_type": "code",
   "execution_count": 60,
   "id": "94742ff7",
   "metadata": {
    "execution": {
     "iopub.execute_input": "2023-12-14T15:48:37.352328Z",
     "iopub.status.busy": "2023-12-14T15:48:37.351667Z",
     "iopub.status.idle": "2023-12-14T15:48:37.365153Z",
     "shell.execute_reply": "2023-12-14T15:48:37.364390Z"
    },
    "papermill": {
     "duration": 0.05728,
     "end_time": "2023-12-14T15:48:37.367205",
     "exception": false,
     "start_time": "2023-12-14T15:48:37.309925",
     "status": "completed"
    },
    "tags": []
   },
   "outputs": [
    {
     "data": {
      "text/html": [
       "<div>\n",
       "<style scoped>\n",
       "    .dataframe tbody tr th:only-of-type {\n",
       "        vertical-align: middle;\n",
       "    }\n",
       "\n",
       "    .dataframe tbody tr th {\n",
       "        vertical-align: top;\n",
       "    }\n",
       "\n",
       "    .dataframe thead th {\n",
       "        text-align: right;\n",
       "    }\n",
       "</style>\n",
       "<table border=\"1\" class=\"dataframe\">\n",
       "  <thead>\n",
       "    <tr style=\"text-align: right;\">\n",
       "      <th></th>\n",
       "      <th>Marital_status</th>\n",
       "      <th>GENDER</th>\n",
       "      <th>Bad_Credit_Count</th>\n",
       "    </tr>\n",
       "  </thead>\n",
       "  <tbody>\n",
       "    <tr>\n",
       "      <th>0</th>\n",
       "      <td>1</td>\n",
       "      <td>1</td>\n",
       "      <td>16</td>\n",
       "    </tr>\n",
       "    <tr>\n",
       "      <th>1</th>\n",
       "      <td>1</td>\n",
       "      <td>0</td>\n",
       "      <td>6</td>\n",
       "    </tr>\n",
       "  </tbody>\n",
       "</table>\n",
       "</div>"
      ],
      "text/plain": [
       "   Marital_status  GENDER  Bad_Credit_Count\n",
       "0               1       1                16\n",
       "1               1       0                 6"
      ]
     },
     "execution_count": 60,
     "metadata": {},
     "output_type": "execute_result"
    }
   ],
   "source": [
    "# Between married males and females, who is having more bad credit? \n",
    "\n",
    "conn.execute(\"SELECT Marital_status, GENDER, COUNT(*) AS Bad_Credit_Count FROM Credit_Card WHERE Marital_status = 1 AND Credit_Score = 1 GROUP BY Marital_status, GENDER;\").fetchdf()\n"
   ]
  },
  {
   "cell_type": "markdown",
   "id": "ce8e9083",
   "metadata": {
    "papermill": {
     "duration": 0.04187,
     "end_time": "2023-12-14T15:48:37.450388",
     "exception": false,
     "start_time": "2023-12-14T15:48:37.408518",
     "status": "completed"
    },
    "tags": []
   },
   "source": [
    "Gender - 1 is Male\n",
    "and Marital_status - 1 is Married\n",
    "Credit_Score = 0: \"good credit\" "
   ]
  }
 ],
 "metadata": {
  "kaggle": {
   "accelerator": "none",
   "dataSources": [
    {
     "datasetId": 4094561,
     "sourceId": 7102875,
     "sourceType": "datasetVersion"
    }
   ],
   "dockerImageVersionId": 30587,
   "isGpuEnabled": false,
   "isInternetEnabled": true,
   "language": "python",
   "sourceType": "notebook"
  },
  "kernelspec": {
   "display_name": "Python 3",
   "language": "python",
   "name": "python3"
  },
  "language_info": {
   "codemirror_mode": {
    "name": "ipython",
    "version": 3
   },
   "file_extension": ".py",
   "mimetype": "text/x-python",
   "name": "python",
   "nbconvert_exporter": "python",
   "pygments_lexer": "ipython3",
   "version": "3.10.12"
  },
  "papermill": {
   "default_parameters": {},
   "duration": 38.360144,
   "end_time": "2023-12-14T15:48:38.314341",
   "environment_variables": {},
   "exception": null,
   "input_path": "__notebook__.ipynb",
   "output_path": "__notebook__.ipynb",
   "parameters": {},
   "start_time": "2023-12-14T15:47:59.954197",
   "version": "2.4.0"
  }
 },
 "nbformat": 4,
 "nbformat_minor": 5
}
